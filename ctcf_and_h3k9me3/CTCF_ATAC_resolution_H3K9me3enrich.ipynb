{
 "cells": [
  {
   "cell_type": "markdown",
   "metadata": {},
   "source": [
    "## Produce methylation enrichment barplots for CTCF and H3K9me3 figures"
   ]
  },
  {
   "cell_type": "code",
   "execution_count": 1,
   "metadata": {},
   "outputs": [
    {
     "name": "stderr",
     "output_type": "stream",
     "text": [
      "\n",
      "Bad key \"text.kerning_factor\" on line 4 in\n",
      "/Users/annie/miniconda3/lib/python3.7/site-packages/matplotlib/mpl-data/stylelib/_classic_test_patch.mplstyle.\n",
      "You probably need to get an updated matplotlibrc file from\n",
      "https://github.com/matplotlib/matplotlib/blob/v3.1.3/matplotlibrc.template\n",
      "or from the matplotlib source distribution\n"
     ]
    }
   ],
   "source": [
    "import pandas as pd\n",
    "import seaborn as sns\n",
    "import matplotlib.pyplot as plt\n",
    "import numpy as np"
   ]
  },
  {
   "cell_type": "code",
   "execution_count": 2,
   "metadata": {},
   "outputs": [],
   "source": [
    "import scipy as sp\n",
    "from scipy import signal\n",
    "from scipy.optimize import curve_fit\n",
    "import scipy.stats\n",
    "import itertools"
   ]
  },
  {
   "cell_type": "code",
   "execution_count": 123,
   "metadata": {},
   "outputs": [
    {
     "data": {
      "text/html": [
       "<div>\n",
       "<style scoped>\n",
       "    .dataframe tbody tr th:only-of-type {\n",
       "        vertical-align: middle;\n",
       "    }\n",
       "\n",
       "    .dataframe tbody tr th {\n",
       "        vertical-align: top;\n",
       "    }\n",
       "\n",
       "    .dataframe thead th {\n",
       "        text-align: right;\n",
       "    }\n",
       "</style>\n",
       "<table border=\"1\" class=\"dataframe\">\n",
       "  <thead>\n",
       "    <tr style=\"text-align: right;\">\n",
       "      <th></th>\n",
       "      <th>target</th>\n",
       "      <th>A open no CTCF</th>\n",
       "      <th>mA open no CTCF</th>\n",
       "      <th>A open yes CTCF</th>\n",
       "      <th>mA open yes CTCF</th>\n",
       "      <th>A CTCF</th>\n",
       "      <th>mA CTCF</th>\n",
       "      <th>A no CTCF</th>\n",
       "      <th>mA no CTCF</th>\n",
       "      <th>mA/A open yes CTCF / mA/A open no CTCF</th>\n",
       "      <th>mA/A CTCF ChIP / mA/A no CTCF</th>\n",
       "      <th>mA/A open yes CTCF</th>\n",
       "      <th>mA/A open no CTCF</th>\n",
       "      <th>mA/A open no CTCF.1</th>\n",
       "      <th>mA/A open yes CTCF.1</th>\n",
       "    </tr>\n",
       "  </thead>\n",
       "  <tbody>\n",
       "    <tr>\n",
       "      <th>0</th>\n",
       "      <td>CTCF</td>\n",
       "      <td>876480443</td>\n",
       "      <td>18784895</td>\n",
       "      <td>320943196</td>\n",
       "      <td>12097503</td>\n",
       "      <td>87264806</td>\n",
       "      <td>3149118</td>\n",
       "      <td>19324697813</td>\n",
       "      <td>43928158</td>\n",
       "      <td>1.758737</td>\n",
       "      <td>15.875212</td>\n",
       "      <td>0.037694</td>\n",
       "      <td>0.021432</td>\n",
       "      <td>0.021432</td>\n",
       "      <td>0.037694</td>\n",
       "    </tr>\n",
       "    <tr>\n",
       "      <th>1</th>\n",
       "      <td>IgG</td>\n",
       "      <td>131197184</td>\n",
       "      <td>75965</td>\n",
       "      <td>48198497</td>\n",
       "      <td>36137</td>\n",
       "      <td>13107714</td>\n",
       "      <td>7472</td>\n",
       "      <td>2924517598</td>\n",
       "      <td>694576</td>\n",
       "      <td>1.294880</td>\n",
       "      <td>2.400183</td>\n",
       "      <td>0.000750</td>\n",
       "      <td>0.000579</td>\n",
       "      <td>0.000579</td>\n",
       "      <td>0.000750</td>\n",
       "    </tr>\n",
       "    <tr>\n",
       "      <th>2</th>\n",
       "      <td>Hia5</td>\n",
       "      <td>123659137</td>\n",
       "      <td>2227363</td>\n",
       "      <td>45463776</td>\n",
       "      <td>1129148</td>\n",
       "      <td>12400043</td>\n",
       "      <td>281197</td>\n",
       "      <td>2745488772</td>\n",
       "      <td>9982204</td>\n",
       "      <td>1.378861</td>\n",
       "      <td>6.237072</td>\n",
       "      <td>0.024836</td>\n",
       "      <td>0.018012</td>\n",
       "      <td>0.018012</td>\n",
       "      <td>0.024836</td>\n",
       "    </tr>\n",
       "  </tbody>\n",
       "</table>\n",
       "</div>"
      ],
      "text/plain": [
       "  target  A open no CTCF  mA open no CTCF  A open yes CTCF  mA open yes CTCF  \\\n",
       "0   CTCF       876480443         18784895        320943196          12097503   \n",
       "1    IgG       131197184            75965         48198497             36137   \n",
       "2   Hia5       123659137          2227363         45463776           1129148   \n",
       "\n",
       "     A CTCF  mA CTCF    A no CTCF  mA no CTCF  \\\n",
       "0  87264806  3149118  19324697813    43928158   \n",
       "1  13107714     7472   2924517598      694576   \n",
       "2  12400043   281197   2745488772     9982204   \n",
       "\n",
       "   mA/A open yes CTCF / mA/A open no CTCF  mA/A CTCF ChIP / mA/A no CTCF  \\\n",
       "0                                1.758737                      15.875212   \n",
       "1                                1.294880                       2.400183   \n",
       "2                                1.378861                       6.237072   \n",
       "\n",
       "   mA/A open yes CTCF  mA/A open no CTCF  mA/A open no CTCF.1  \\\n",
       "0            0.037694           0.021432             0.021432   \n",
       "1            0.000750           0.000579             0.000579   \n",
       "2            0.024836           0.018012             0.018012   \n",
       "\n",
       "   mA/A open yes CTCF.1  \n",
       "0              0.037694  \n",
       "1              0.000750  \n",
       "2              0.024836  "
      ]
     },
     "execution_count": 123,
     "metadata": {},
     "output_type": "execute_result"
    }
   ],
   "source": [
    "data = pd.read_csv('ctcf_atac_v2.csv') # csv generated manually from ctcf_atac.sh results\n",
    "data.head()"
   ]
  },
  {
   "cell_type": "code",
   "execution_count": 124,
   "metadata": {},
   "outputs": [],
   "source": [
    "#Give a uniform prior for methylation protportion. proportion p is distributed as Beta(1+mA, 1+(A-mA)) for each.\n",
    "def calculate_ci(total_A_off_target, total_A_target, mA_off_target, mA_target):\n",
    "    print((mA_target/total_A_target)/(mA_off_target/total_A_off_target))\n",
    "    t = np.random.beta(1 + mA_target, 1 + (total_A_target - mA_target), size=100000)\n",
    "    g = np.random.beta(1 + mA_off_target, 1 + (total_A_off_target - mA_off_target), size=100000)\n",
    "    \n",
    "    ratio = t/g\n",
    "    \n",
    "    ci_ratio_lower = np.percentile(ratio, 2.5)\n",
    "    ci_ratio_upper = np.percentile(ratio, 97.5)\n",
    "    \n",
    "    return [ci_ratio_lower, ci_ratio_upper]"
   ]
  },
  {
   "cell_type": "code",
   "execution_count": 134,
   "metadata": {},
   "outputs": [],
   "source": [
    "#Give a uniform prior for methylation protportion. proportion p is distributed as Beta(1+mA, 1+(A-mA)) for each.\n",
    "# just for mA/A and not ratio\n",
    "def calculate_ci_mA_A(totalA, mA):\n",
    "    print(mA/totalA)\n",
    "    r = np.random.beta(1 + mA, 1 + (totalA - mA), size=100000)\n",
    "    \n",
    "    ci_ratio_lower = np.percentile(r, 2.5)\n",
    "    ci_ratio_upper = np.percentile(r, 97.5)\n",
    "    \n",
    "    return [ci_ratio_lower, ci_ratio_upper]"
   ]
  },
  {
   "cell_type": "code",
   "execution_count": 136,
   "metadata": {},
   "outputs": [
    {
     "name": "stdout",
     "output_type": "stream",
     "text": [
      "0.02143218955998999\n",
      "0.0005790139520067748\n",
      "0.01801211826344866\n",
      "0.03769359547351177\n",
      "0.0007497536697046798\n",
      "0.024836212460663188\n"
     ]
    }
   ],
   "source": [
    "data['ci_noctcf'] = data.apply(lambda row : calculate_ci_mA_A(row['A open no CTCF'], row['mA open no CTCF']), axis=1)\n",
    "data['ci_yesctcf'] = data.apply(lambda row : calculate_ci_mA_A(row['A open yes CTCF'], row['mA open yes CTCF']), axis=1)"
   ]
  },
  {
   "cell_type": "code",
   "execution_count": 125,
   "metadata": {},
   "outputs": [],
   "source": [
    "cmap = ['#610345','#559CAD', '#A9E5BB']"
   ]
  },
  {
   "cell_type": "code",
   "execution_count": 138,
   "metadata": {},
   "outputs": [],
   "source": [
    "data['ci_ratio_lower_noctcf'] = [item[0] for item in data['ci_noctcf']]\n",
    "data['ci_ratio_upper_noctcf'] = [item[1] for item in data['ci_noctcf']]\n",
    "data['ci_ratio_lower_yesctcf'] = [item[0] for item in data['ci_yesctcf']]\n",
    "data['ci_ratio_upper_yesctcf'] = [item[1] for item in data['ci_yesctcf']]"
   ]
  },
  {
   "cell_type": "code",
   "execution_count": 142,
   "metadata": {},
   "outputs": [
    {
     "data": {
      "image/png": "[encoded data removed]",
      "text/plain": [
       "<Figure size 432x288 with 1 Axes>"
      ]
     },
     "metadata": {
      "needs_background": "light"
     },
     "output_type": "display_data"
    }
   ],
   "source": [
    "fig, ax1 = plt.subplots()\n",
    "tidy = data.melt(id_vars='target').rename(columns=str.title)\n",
    "tidy_small = tidy[(tidy['Variable'] == 'mA/A open no CTCF') |\n",
    "    (tidy['Variable'] == 'mA/A open yes CTCF')]\n",
    "\n",
    "error_opennoctcf = [data['mA/A open no CTCF'] - data['ci_ratio_lower_noctcf'], data['ci_ratio_upper_noctcf'] - data['mA/A open no CTCF']]\n",
    "error_openyesctcf = [data['mA/A open yes CTCF'] - data['ci_ratio_lower_yesctcf'], data['ci_ratio_upper_yesctcf'] - data['mA/A open yes CTCF']]\n",
    "\n",
    "barWidth = 0.4\n",
    "\n",
    "bars1 = data['mA/A open no CTCF']\n",
    "bars2 = data['mA/A open yes CTCF']\n",
    "\n",
    "r1 = np.arange(len(bars1))\n",
    "r2 = [x + barWidth for x in r1]\n",
    "\n",
    "plt.bar(r1, bars1, yerr=error_opennoctcf, color='#5E747F', ecolor='grey', capsize=1, label='ATAC not CTCF ChIP', width=barWidth);\n",
    "plt.bar(r2, bars2, yerr=error_openyesctcf, color='#FFBC0A', ecolor='grey', capsize=1, label='ATAC & CTCF ChIP', width=barWidth);\n",
    " \n",
    "# Add xticks on the middle of the group bars\n",
    "plt.xticks([r + barWidth/2 for r in range(len(bars1))], data['target'])\n",
    " \n",
    "# Create legend & Show graphic\n",
    "sns.despine(fig)\n",
    "plt.ylabel('mA/A')\n",
    "plt.legend(bbox_to_anchor=(1.05, 1), loc=2, borderaxespad=0.)\n",
    "plt.ylim(0,)\n",
    "plt.savefig(out + '/atac_ctcf_mA_A.pdf')"
   ]
  },
  {
   "cell_type": "code",
   "execution_count": 126,
   "metadata": {},
   "outputs": [
    {
     "name": "stdout",
     "output_type": "stream",
     "text": [
      "1.758737499405048\n",
      "1.2948801442627538\n",
      "1.3788612809112195\n"
     ]
    }
   ],
   "source": [
    "data['ci'] = data.apply(lambda row : calculate_ci(row['A open no CTCF'], row['A open yes CTCF'], \n",
    "                                     row['mA open no CTCF'], row['mA open yes CTCF']), axis=1)"
   ]
  },
  {
   "cell_type": "code",
   "execution_count": 127,
   "metadata": {},
   "outputs": [],
   "source": [
    "data['ci_ratio_lower'] = [item[0] for item in data['ci']]\n",
    "data['ci_ratio_upper'] = [item[1] for item in data['ci']]"
   ]
  },
  {
   "cell_type": "code",
   "execution_count": 128,
   "metadata": {},
   "outputs": [
    {
     "data": {
      "image/png": "[encoded data removed]",
      "text/plain": [
       "<Figure size 432x288 with 1 Axes>"
      ]
     },
     "metadata": {
      "needs_background": "light"
     },
     "output_type": "display_data"
    }
   ],
   "source": [
    "fig, ax1 = plt.subplots()\n",
    "error = [data['mA/A open yes CTCF / mA/A open no CTCF'] - data['ci_ratio_lower'], data['ci_ratio_upper'] - data['mA/A open yes CTCF / mA/A open no CTCF']]\n",
    "plt.bar(data['target'], data['mA/A open yes CTCF / mA/A open no CTCF'], data=data, yerr=error, color=cmap, ecolor='grey', capsize=1);\n",
    "sns.despine(fig)\n",
    "plt.ylabel('fold enrichment in open chromatin overlapping CTCF peaks vs. not overlapping');\n",
    "plt.xlabel('')\n",
    "plt.savefig('enrich_atac_ctcf.pdf')"
   ]
  },
  {
   "cell_type": "code",
   "execution_count": 129,
   "metadata": {},
   "outputs": [
    {
     "name": "stdout",
     "output_type": "stream",
     "text": [
      "15.875211700203096\n",
      "2.4001830947322387\n",
      "6.237071500927893\n"
     ]
    }
   ],
   "source": [
    "data['ci'] = data.apply(lambda row : calculate_ci(row['A no CTCF'], row['A CTCF'], \n",
    "                                     row['mA no CTCF'], row['mA CTCF']), axis=1)"
   ]
  },
  {
   "cell_type": "code",
   "execution_count": 130,
   "metadata": {},
   "outputs": [],
   "source": [
    "data['ci_ratio_lower'] = [item[0] for item in data['ci']]\n",
    "data['ci_ratio_upper'] = [item[1] for item in data['ci']]"
   ]
  },
  {
   "cell_type": "code",
   "execution_count": 131,
   "metadata": {},
   "outputs": [
    {
     "data": {
      "image/png": "[encoded data removed]",
      "text/plain": [
       "<Figure size 432x288 with 1 Axes>"
      ]
     },
     "metadata": {
      "needs_background": "light"
     },
     "output_type": "display_data"
    }
   ],
   "source": [
    "fig, ax1 = plt.subplots()\n",
    "error = [data['mA/A CTCF ChIP / mA/A no CTCF'] - data['ci_ratio_lower'], data['ci_ratio_upper'] - data['mA/A CTCF ChIP / mA/A no CTCF']]\n",
    "plt.bar(data['target'], data['mA/A CTCF ChIP / mA/A no CTCF'], data=data, yerr=error, color=cmap, ecolor='grey', capsize=1);\n",
    "sns.despine(fig)\n",
    "plt.ylabel('fold enrichment in ChIP-seq peaks vs. outside');\n",
    "plt.xlabel('')\n",
    "plt.savefig('enrich_ctcf.pdf')"
   ]
  },
  {
   "cell_type": "code",
   "execution_count": 549,
   "metadata": {},
   "outputs": [
    {
     "data": {
      "text/html": [
       "<div>\n",
       "<style scoped>\n",
       "    .dataframe tbody tr th:only-of-type {\n",
       "        vertical-align: middle;\n",
       "    }\n",
       "\n",
       "    .dataframe tbody tr th {\n",
       "        vertical-align: top;\n",
       "    }\n",
       "\n",
       "    .dataframe thead th {\n",
       "        text-align: right;\n",
       "    }\n",
       "</style>\n",
       "<table border=\"1\" class=\"dataframe\">\n",
       "  <thead>\n",
       "    <tr style=\"text-align: right;\">\n",
       "      <th></th>\n",
       "      <th>target</th>\n",
       "      <th>A open no CTCF</th>\n",
       "      <th>mA open no CTCF</th>\n",
       "      <th>A open yes CTCF</th>\n",
       "      <th>mA open yes CTCF</th>\n",
       "      <th>A CTCF</th>\n",
       "      <th>mA CTCF</th>\n",
       "      <th>A no CTCF</th>\n",
       "      <th>mA no CTCF</th>\n",
       "      <th>mA/A open yes CTCF / mA/A open no CTCF</th>\n",
       "      <th>...</th>\n",
       "      <th>mA/A open yes CTCF.1</th>\n",
       "      <th>ci</th>\n",
       "      <th>ci_ratio_lower</th>\n",
       "      <th>ci_ratio_upper</th>\n",
       "      <th>ci_noctcf</th>\n",
       "      <th>ci_yesctcf</th>\n",
       "      <th>ci_ratio_lower_noctcf</th>\n",
       "      <th>ci_ratio_upper_noctcf</th>\n",
       "      <th>ci_ratio_lower_yesctcf</th>\n",
       "      <th>ci_ratio_upper_yesctcf</th>\n",
       "    </tr>\n",
       "  </thead>\n",
       "  <tbody>\n",
       "    <tr>\n",
       "      <th>0</th>\n",
       "      <td>CTCF</td>\n",
       "      <td>876480443</td>\n",
       "      <td>18784895</td>\n",
       "      <td>320943196</td>\n",
       "      <td>12097503</td>\n",
       "      <td>87264806</td>\n",
       "      <td>3149118</td>\n",
       "      <td>19324697813</td>\n",
       "      <td>43928158</td>\n",
       "      <td>1.758737</td>\n",
       "      <td>...</td>\n",
       "      <td>0.037694</td>\n",
       "      <td>[15.857292264934735, 15.893068888625178]</td>\n",
       "      <td>15.857292</td>\n",
       "      <td>15.893069</td>\n",
       "      <td>[0.02142260873971795, 0.021441812565343978]</td>\n",
       "      <td>[0.03767273224034646, 0.037714648330686586]</td>\n",
       "      <td>0.021423</td>\n",
       "      <td>0.021442</td>\n",
       "      <td>0.037673</td>\n",
       "      <td>0.037715</td>\n",
       "    </tr>\n",
       "    <tr>\n",
       "      <th>1</th>\n",
       "      <td>IgG</td>\n",
       "      <td>131197184</td>\n",
       "      <td>75965</td>\n",
       "      <td>48198497</td>\n",
       "      <td>36137</td>\n",
       "      <td>13107714</td>\n",
       "      <td>7472</td>\n",
       "      <td>2924517598</td>\n",
       "      <td>694576</td>\n",
       "      <td>1.294880</td>\n",
       "      <td>...</td>\n",
       "      <td>0.000750</td>\n",
       "      <td>[2.346214989872014, 2.455319297126775]</td>\n",
       "      <td>2.346215</td>\n",
       "      <td>2.455319</td>\n",
       "      <td>[0.0005749403865283445, 0.0005831517438500576]</td>\n",
       "      <td>[0.0007420298457553545, 0.0007575616568083405]</td>\n",
       "      <td>0.000575</td>\n",
       "      <td>0.000583</td>\n",
       "      <td>0.000742</td>\n",
       "      <td>0.000758</td>\n",
       "    </tr>\n",
       "    <tr>\n",
       "      <th>2</th>\n",
       "      <td>Hia5</td>\n",
       "      <td>123659137</td>\n",
       "      <td>2227363</td>\n",
       "      <td>45463776</td>\n",
       "      <td>1129148</td>\n",
       "      <td>12400043</td>\n",
       "      <td>281197</td>\n",
       "      <td>2745488772</td>\n",
       "      <td>9982204</td>\n",
       "      <td>1.378861</td>\n",
       "      <td>...</td>\n",
       "      <td>0.024836</td>\n",
       "      <td>[6.214071127920335, 6.260163385867278]</td>\n",
       "      <td>6.214071</td>\n",
       "      <td>6.260163</td>\n",
       "      <td>[0.017988650171142963, 0.01803542966585321]</td>\n",
       "      <td>[0.024791130795225495, 0.024881312736867885]</td>\n",
       "      <td>0.017989</td>\n",
       "      <td>0.018035</td>\n",
       "      <td>0.024791</td>\n",
       "      <td>0.024881</td>\n",
       "    </tr>\n",
       "  </tbody>\n",
       "</table>\n",
       "<p>3 rows × 24 columns</p>\n",
       "</div>"
      ],
      "text/plain": [
       "  target  A open no CTCF  mA open no CTCF  A open yes CTCF  mA open yes CTCF  \\\n",
       "0   CTCF       876480443         18784895        320943196          12097503   \n",
       "1    IgG       131197184            75965         48198497             36137   \n",
       "2   Hia5       123659137          2227363         45463776           1129148   \n",
       "\n",
       "     A CTCF  mA CTCF    A no CTCF  mA no CTCF  \\\n",
       "0  87264806  3149118  19324697813    43928158   \n",
       "1  13107714     7472   2924517598      694576   \n",
       "2  12400043   281197   2745488772     9982204   \n",
       "\n",
       "   mA/A open yes CTCF / mA/A open no CTCF  ...  mA/A open yes CTCF.1  \\\n",
       "0                                1.758737  ...              0.037694   \n",
       "1                                1.294880  ...              0.000750   \n",
       "2                                1.378861  ...              0.024836   \n",
       "\n",
       "                                         ci  ci_ratio_lower  ci_ratio_upper  \\\n",
       "0  [15.857292264934735, 15.893068888625178]       15.857292       15.893069   \n",
       "1    [2.346214989872014, 2.455319297126775]        2.346215        2.455319   \n",
       "2    [6.214071127920335, 6.260163385867278]        6.214071        6.260163   \n",
       "\n",
       "                                        ci_noctcf  \\\n",
       "0     [0.02142260873971795, 0.021441812565343978]   \n",
       "1  [0.0005749403865283445, 0.0005831517438500576]   \n",
       "2     [0.017988650171142963, 0.01803542966585321]   \n",
       "\n",
       "                                       ci_yesctcf  ci_ratio_lower_noctcf  \\\n",
       "0     [0.03767273224034646, 0.037714648330686586]               0.021423   \n",
       "1  [0.0007420298457553545, 0.0007575616568083405]               0.000575   \n",
       "2    [0.024791130795225495, 0.024881312736867885]               0.017989   \n",
       "\n",
       "   ci_ratio_upper_noctcf ci_ratio_lower_yesctcf ci_ratio_upper_yesctcf  \n",
       "0               0.021442               0.037673               0.037715  \n",
       "1               0.000583               0.000742               0.000758  \n",
       "2               0.018035               0.024791               0.024881  \n",
       "\n",
       "[3 rows x 24 columns]"
      ]
     },
     "execution_count": 549,
     "metadata": {},
     "output_type": "execute_result"
    }
   ],
   "source": [
    "data"
   ]
  },
  {
   "cell_type": "markdown",
   "metadata": {},
   "source": [
    "## H3K9me3 enrichment"
   ]
  },
  {
   "cell_type": "code",
   "execution_count": 113,
   "metadata": {},
   "outputs": [],
   "source": [
    "data_k9me3 = pd.read_csv(\"h3k9me3_enrichment_v2.csv\") # made manually from fig5ab_153.sh results"
   ]
  },
  {
   "cell_type": "code",
   "execution_count": 114,
   "metadata": {},
   "outputs": [
    {
     "name": "stdout",
     "output_type": "stream",
     "text": [
      "3.580257724977363\n",
      "1.0943454453711765\n",
      "0.9385134114478316\n"
     ]
    }
   ],
   "source": [
    "data_k9me3['ci'] = data_k9me3.apply(lambda row : calculate_ci(row['A not cut&run'], row['A cut&run'], \n",
    "                                     row['mA not cut&run'], row['mA cut&run']), axis=1)"
   ]
  },
  {
   "cell_type": "code",
   "execution_count": 115,
   "metadata": {},
   "outputs": [
    {
     "data": {
      "text/html": [
       "<div>\n",
       "<style scoped>\n",
       "    .dataframe tbody tr th:only-of-type {\n",
       "        vertical-align: middle;\n",
       "    }\n",
       "\n",
       "    .dataframe tbody tr th {\n",
       "        vertical-align: top;\n",
       "    }\n",
       "\n",
       "    .dataframe thead th {\n",
       "        text-align: right;\n",
       "    }\n",
       "</style>\n",
       "<table border=\"1\" class=\"dataframe\">\n",
       "  <thead>\n",
       "    <tr style=\"text-align: right;\">\n",
       "      <th></th>\n",
       "      <th>target</th>\n",
       "      <th>A cut&amp;run</th>\n",
       "      <th>mA cut&amp;run</th>\n",
       "      <th>A centromere</th>\n",
       "      <th>mA centromere</th>\n",
       "      <th>A not cut&amp;run</th>\n",
       "      <th>mA not cut&amp;run</th>\n",
       "      <th>A HOR</th>\n",
       "      <th>mA HOR</th>\n",
       "      <th>A not centromere</th>\n",
       "      <th>mA not centromere</th>\n",
       "      <th>mA/A cut&amp;run / mA/A not cut&amp;run</th>\n",
       "      <th>mA/A centromere / mA/A not centromere</th>\n",
       "      <th>mA/A HOR / mA/A not centromere</th>\n",
       "      <th>ci</th>\n",
       "    </tr>\n",
       "  </thead>\n",
       "  <tbody>\n",
       "    <tr>\n",
       "      <th>0</th>\n",
       "      <td>H3K9me3</td>\n",
       "      <td>83049313</td>\n",
       "      <td>615274</td>\n",
       "      <td>312097637</td>\n",
       "      <td>1644982</td>\n",
       "      <td>1696202224</td>\n",
       "      <td>3509909</td>\n",
       "      <td>44947553</td>\n",
       "      <td>372989</td>\n",
       "      <td>2554227945</td>\n",
       "      <td>7049432</td>\n",
       "      <td>3.580258</td>\n",
       "      <td>1.909749</td>\n",
       "      <td>3.006737</td>\n",
       "      <td>[3.5706136665058095, 3.5898850964284588]</td>\n",
       "    </tr>\n",
       "    <tr>\n",
       "      <th>1</th>\n",
       "      <td>IgG</td>\n",
       "      <td>21871820</td>\n",
       "      <td>25360</td>\n",
       "      <td>82497381</td>\n",
       "      <td>93036</td>\n",
       "      <td>525395520</td>\n",
       "      <td>556668</td>\n",
       "      <td>9242198</td>\n",
       "      <td>7588</td>\n",
       "      <td>758096807</td>\n",
       "      <td>823092</td>\n",
       "      <td>1.094345</td>\n",
       "      <td>1.038693</td>\n",
       "      <td>0.756185</td>\n",
       "      <td>[1.080573394784948, 1.1082726095001347]</td>\n",
       "    </tr>\n",
       "    <tr>\n",
       "      <th>2</th>\n",
       "      <td>Hia5</td>\n",
       "      <td>56570643</td>\n",
       "      <td>272707</td>\n",
       "      <td>210819055</td>\n",
       "      <td>836441</td>\n",
       "      <td>1434710445</td>\n",
       "      <td>7369346</td>\n",
       "      <td>25131022</td>\n",
       "      <td>35971</td>\n",
       "      <td>2077732985</td>\n",
       "      <td>10597687</td>\n",
       "      <td>0.938513</td>\n",
       "      <td>0.777865</td>\n",
       "      <td>0.280622</td>\n",
       "      <td>[0.9349139334980118, 0.9420898878238593]</td>\n",
       "    </tr>\n",
       "  </tbody>\n",
       "</table>\n",
       "</div>"
      ],
      "text/plain": [
       "    target  A cut&run  mA cut&run  A centromere  mA centromere  A not cut&run  \\\n",
       "0  H3K9me3   83049313      615274     312097637        1644982     1696202224   \n",
       "1      IgG   21871820       25360      82497381          93036      525395520   \n",
       "2     Hia5   56570643      272707     210819055         836441     1434710445   \n",
       "\n",
       "   mA not cut&run     A HOR  mA HOR  A not centromere  mA not centromere  \\\n",
       "0         3509909  44947553  372989        2554227945            7049432   \n",
       "1          556668   9242198    7588         758096807             823092   \n",
       "2         7369346  25131022   35971        2077732985           10597687   \n",
       "\n",
       "   mA/A cut&run / mA/A not cut&run  mA/A centromere / mA/A not centromere  \\\n",
       "0                         3.580258                               1.909749   \n",
       "1                         1.094345                               1.038693   \n",
       "2                         0.938513                               0.777865   \n",
       "\n",
       "   mA/A HOR / mA/A not centromere                                        ci  \n",
       "0                        3.006737  [3.5706136665058095, 3.5898850964284588]  \n",
       "1                        0.756185   [1.080573394784948, 1.1082726095001347]  \n",
       "2                        0.280622  [0.9349139334980118, 0.9420898878238593]  "
      ]
     },
     "execution_count": 115,
     "metadata": {},
     "output_type": "execute_result"
    }
   ],
   "source": [
    "data_k9me3.head()"
   ]
  },
  {
   "cell_type": "code",
   "execution_count": 116,
   "metadata": {},
   "outputs": [],
   "source": [
    "data_k9me3['ci_ratio_lower'] = [item[0] for item in data_k9me3['ci']]\n",
    "data_k9me3['ci_ratio_upper'] = [item[1] for item in data_k9me3['ci']]"
   ]
  },
  {
   "cell_type": "code",
   "execution_count": 121,
   "metadata": {},
   "outputs": [
    {
     "data": {
      "image/png": "[encoded data removed]",
      "text/plain": [
       "<Figure size 432x288 with 1 Axes>"
      ]
     },
     "metadata": {
      "needs_background": "light"
     },
     "output_type": "display_data"
    }
   ],
   "source": [
    "out = \"/out\"\n",
    "fig, ax1 = plt.subplots()\n",
    "error = [data_k9me3['mA/A cut&run / mA/A not cut&run'] - data_k9me3['ci_ratio_lower'], data_k9me3['ci_ratio_upper'] - data_k9me3['mA/A cut&run / mA/A not cut&run']]\n",
    "plt.bar('target','mA/A cut&run / mA/A not cut&run', data=data_k9me3, yerr=error, color=cmap, ecolor='grey', capsize=1);\n",
    "sns.despine(fig)\n",
    "plt.ylabel('fold enrichment in CUT&RUN peaks');\n",
    "plt.xlabel('')\n",
    "plt.savefig(out + '/enrich_cutrun.pdf')"
   ]
  },
  {
   "cell_type": "code",
   "execution_count": 550,
   "metadata": {},
   "outputs": [
    {
     "data": {
      "text/html": [
       "<div>\n",
       "<style scoped>\n",
       "    .dataframe tbody tr th:only-of-type {\n",
       "        vertical-align: middle;\n",
       "    }\n",
       "\n",
       "    .dataframe tbody tr th {\n",
       "        vertical-align: top;\n",
       "    }\n",
       "\n",
       "    .dataframe thead th {\n",
       "        text-align: right;\n",
       "    }\n",
       "</style>\n",
       "<table border=\"1\" class=\"dataframe\">\n",
       "  <thead>\n",
       "    <tr style=\"text-align: right;\">\n",
       "      <th></th>\n",
       "      <th>target</th>\n",
       "      <th>A cut&amp;run</th>\n",
       "      <th>mA cut&amp;run</th>\n",
       "      <th>A centromere</th>\n",
       "      <th>mA centromere</th>\n",
       "      <th>A not cut&amp;run</th>\n",
       "      <th>mA not cut&amp;run</th>\n",
       "      <th>A HOR</th>\n",
       "      <th>mA HOR</th>\n",
       "      <th>A not centromere</th>\n",
       "      <th>...</th>\n",
       "      <th>mA/A HOR / mA/A not centromere</th>\n",
       "      <th>ci</th>\n",
       "      <th>ci_ratio_lower</th>\n",
       "      <th>ci_ratio_upper</th>\n",
       "      <th>ci_cen</th>\n",
       "      <th>ci_hor</th>\n",
       "      <th>ci_ratio_lower_cen</th>\n",
       "      <th>ci_ratio_upper_cen</th>\n",
       "      <th>ci_ratio_lower_hor</th>\n",
       "      <th>ci_ratio_upper_hor</th>\n",
       "    </tr>\n",
       "  </thead>\n",
       "  <tbody>\n",
       "    <tr>\n",
       "      <th>0</th>\n",
       "      <td>H3K9me3</td>\n",
       "      <td>83049313</td>\n",
       "      <td>615274</td>\n",
       "      <td>312097637</td>\n",
       "      <td>1644982</td>\n",
       "      <td>1696202224</td>\n",
       "      <td>3509909</td>\n",
       "      <td>44947553</td>\n",
       "      <td>372989</td>\n",
       "      <td>2554227945</td>\n",
       "      <td>...</td>\n",
       "      <td>3.006737</td>\n",
       "      <td>[3.5706136665058095, 3.5898850964284588]</td>\n",
       "      <td>3.570614</td>\n",
       "      <td>3.589885</td>\n",
       "      <td>[1.9065237762344756, 1.9129652350629043]</td>\n",
       "      <td>[2.996898554801723, 3.016601003158171]</td>\n",
       "      <td>1.906524</td>\n",
       "      <td>1.912965</td>\n",
       "      <td>2.996899</td>\n",
       "      <td>3.016601</td>\n",
       "    </tr>\n",
       "    <tr>\n",
       "      <th>1</th>\n",
       "      <td>IgG</td>\n",
       "      <td>21871820</td>\n",
       "      <td>25360</td>\n",
       "      <td>82497381</td>\n",
       "      <td>93036</td>\n",
       "      <td>525395520</td>\n",
       "      <td>556668</td>\n",
       "      <td>9242198</td>\n",
       "      <td>7588</td>\n",
       "      <td>758096807</td>\n",
       "      <td>...</td>\n",
       "      <td>0.756185</td>\n",
       "      <td>[1.080573394784948, 1.1082726095001347]</td>\n",
       "      <td>1.080573</td>\n",
       "      <td>1.108273</td>\n",
       "      <td>[1.031676967731421, 1.0457829391023041]</td>\n",
       "      <td>[0.7393682760624424, 0.7734113072611392]</td>\n",
       "      <td>1.031677</td>\n",
       "      <td>1.045783</td>\n",
       "      <td>0.739368</td>\n",
       "      <td>0.773411</td>\n",
       "    </tr>\n",
       "    <tr>\n",
       "      <th>2</th>\n",
       "      <td>Hia5</td>\n",
       "      <td>56570643</td>\n",
       "      <td>272707</td>\n",
       "      <td>210819055</td>\n",
       "      <td>836441</td>\n",
       "      <td>1434710445</td>\n",
       "      <td>7369346</td>\n",
       "      <td>25131022</td>\n",
       "      <td>35971</td>\n",
       "      <td>2077732985</td>\n",
       "      <td>...</td>\n",
       "      <td>0.280622</td>\n",
       "      <td>[0.9349139334980118, 0.9420898878238593]</td>\n",
       "      <td>0.934914</td>\n",
       "      <td>0.942090</td>\n",
       "      <td>[0.7761330840904077, 0.7795966760479361]</td>\n",
       "      <td>[0.2777194154007734, 0.2835658728627737]</td>\n",
       "      <td>0.776133</td>\n",
       "      <td>0.779597</td>\n",
       "      <td>0.277719</td>\n",
       "      <td>0.283566</td>\n",
       "    </tr>\n",
       "  </tbody>\n",
       "</table>\n",
       "<p>3 rows × 23 columns</p>\n",
       "</div>"
      ],
      "text/plain": [
       "    target  A cut&run  mA cut&run  A centromere  mA centromere  A not cut&run  \\\n",
       "0  H3K9me3   83049313      615274     312097637        1644982     1696202224   \n",
       "1      IgG   21871820       25360      82497381          93036      525395520   \n",
       "2     Hia5   56570643      272707     210819055         836441     1434710445   \n",
       "\n",
       "   mA not cut&run     A HOR  mA HOR  A not centromere  ...  \\\n",
       "0         3509909  44947553  372989        2554227945  ...   \n",
       "1          556668   9242198    7588         758096807  ...   \n",
       "2         7369346  25131022   35971        2077732985  ...   \n",
       "\n",
       "   mA/A HOR / mA/A not centromere                                        ci  \\\n",
       "0                        3.006737  [3.5706136665058095, 3.5898850964284588]   \n",
       "1                        0.756185   [1.080573394784948, 1.1082726095001347]   \n",
       "2                        0.280622  [0.9349139334980118, 0.9420898878238593]   \n",
       "\n",
       "   ci_ratio_lower  ci_ratio_upper                                    ci_cen  \\\n",
       "0        3.570614        3.589885  [1.9065237762344756, 1.9129652350629043]   \n",
       "1        1.080573        1.108273   [1.031676967731421, 1.0457829391023041]   \n",
       "2        0.934914        0.942090  [0.7761330840904077, 0.7795966760479361]   \n",
       "\n",
       "                                     ci_hor  ci_ratio_lower_cen  \\\n",
       "0    [2.996898554801723, 3.016601003158171]            1.906524   \n",
       "1  [0.7393682760624424, 0.7734113072611392]            1.031677   \n",
       "2  [0.2777194154007734, 0.2835658728627737]            0.776133   \n",
       "\n",
       "  ci_ratio_upper_cen ci_ratio_lower_hor  ci_ratio_upper_hor  \n",
       "0           1.912965           2.996899            3.016601  \n",
       "1           1.045783           0.739368            0.773411  \n",
       "2           0.779597           0.277719            0.283566  \n",
       "\n",
       "[3 rows x 23 columns]"
      ]
     },
     "execution_count": 550,
     "metadata": {},
     "output_type": "execute_result"
    }
   ],
   "source": [
    "data_k9me3"
   ]
  },
  {
   "cell_type": "code",
   "execution_count": 118,
   "metadata": {},
   "outputs": [
    {
     "name": "stdout",
     "output_type": "stream",
     "text": [
      "1.9097485812762924\n",
      "1.0386928818353989\n",
      "0.7778647587549746\n"
     ]
    }
   ],
   "source": [
    "data_k9me3['ci_cen'] = data_k9me3.apply(lambda row : calculate_ci(row['A not centromere'], row['A centromere'], \n",
    "                                     row['mA not centromere'], row['mA centromere']), axis=1)"
   ]
  },
  {
   "cell_type": "code",
   "execution_count": 119,
   "metadata": {},
   "outputs": [
    {
     "name": "stdout",
     "output_type": "stream",
     "text": [
      "3.0067373832033435\n",
      "0.7561854917431138\n",
      "0.2806215421628996\n"
     ]
    }
   ],
   "source": [
    "data_k9me3['ci_hor'] = data_k9me3.apply(lambda row : calculate_ci(row['A not centromere'], row['A HOR'], \n",
    "                                     row['mA not centromere'], row['mA HOR']), axis=1)"
   ]
  },
  {
   "cell_type": "code",
   "execution_count": 122,
   "metadata": {},
   "outputs": [
    {
     "data": {
      "image/png": "[encoded data removed]",
      "text/plain": [
       "<Figure size 432x288 with 1 Axes>"
      ]
     },
     "metadata": {
      "needs_background": "light"
     },
     "output_type": "display_data"
    }
   ],
   "source": [
    "data_k9me3['ci_ratio_lower_cen'] = [item[0] for item in data_k9me3['ci_cen']]\n",
    "data_k9me3['ci_ratio_upper_cen'] = [item[1] for item in data_k9me3['ci_cen']]\n",
    "data_k9me3['ci_ratio_lower_hor'] = [item[0] for item in data_k9me3['ci_hor']]\n",
    "data_k9me3['ci_ratio_upper_hor'] = [item[1] for item in data_k9me3['ci_hor']]\n",
    "cmap2 = ['#5E747F', '#FFBC0A']\n",
    "fig, ax1 = plt.subplots()\n",
    "tidy = data_k9me3.melt(id_vars='target').rename(columns=str.title)\n",
    "tidy_small = tidy[(tidy['Variable'] == 'mA/A HOR / mA/A not centromere') |\n",
    "    (tidy['Variable'] == 'mA/A centromere / mA/A not centromere')]\n",
    "\n",
    "error_cen = [data_k9me3['mA/A centromere / mA/A not centromere'] - data_k9me3['ci_ratio_lower_cen'], data_k9me3['ci_ratio_upper_cen'] - data_k9me3['mA/A centromere / mA/A not centromere']]\n",
    "error_hor = [data_k9me3['mA/A HOR / mA/A not centromere'] - data_k9me3['ci_ratio_lower_hor'], data_k9me3['ci_ratio_upper_hor'] - data_k9me3['mA/A HOR / mA/A not centromere']]\n",
    "\n",
    "barWidth = 0.4\n",
    "\n",
    "bars1 = data_k9me3['mA/A centromere / mA/A not centromere']\n",
    "bars2 = data_k9me3['mA/A HOR / mA/A not centromere']\n",
    "\n",
    "r1 = np.arange(len(bars1))\n",
    "r2 = [x + barWidth for x in r1]\n",
    "\n",
    "plt.bar(r1, bars1, yerr=error_cen, color='#5E747F', ecolor='grey', capsize=1, label='centromeres', width=barWidth);\n",
    "plt.bar(r2, bars2, yerr=error_hor, color='#FFBC0A', ecolor='grey', capsize=1, label='HORs', width=barWidth);\n",
    " \n",
    "# Add xticks on the middle of the group bars\n",
    "plt.xticks([r + barWidth/2 for r in range(len(bars1))], data_k9me3['target'])\n",
    " \n",
    "# Create legend & Show graphic\n",
    "sns.despine(fig)\n",
    "plt.ylabel('fold enrichment')\n",
    "plt.legend(bbox_to_anchor=(1.05, 1), loc=2, borderaxespad=0.)\n",
    "plt.savefig(out + '/enrich_cen.pdf')"
   ]
  },
  {
   "cell_type": "code",
   "execution_count": null,
   "metadata": {},
   "outputs": [],
   "source": []
  }
 ],
 "metadata": {
  "kernelspec": {
   "display_name": "Python 3",
   "language": "python",
   "name": "python3"
  },
  "language_info": {
   "codemirror_mode": {
    "name": "ipython",
    "version": 3
   },
   "file_extension": ".py",
   "mimetype": "text/x-python",
   "name": "python",
   "nbconvert_exporter": "python",
   "pygments_lexer": "ipython3",
   "version": "3.7.6"
  }
 },
 "nbformat": 4,
 "nbformat_minor": 4
}
