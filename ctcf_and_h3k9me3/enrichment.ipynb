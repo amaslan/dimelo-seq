{
 "cells": [
  {
   "cell_type": "markdown",
   "metadata": {},
   "source": [
    "## CTCF & H3K9me3 enrichment analysis\n",
    "### Annie Maslan\n",
    "### 06.28.21"
   ]
  },
  {
   "cell_type": "code",
   "execution_count": 1,
   "metadata": {},
   "outputs": [],
   "source": [
    "import os\n",
    "import numpy as np\n",
    "import pandas as pd\n",
    "\n",
    "# plotting & display imports\n",
    "%matplotlib inline\n",
    "import matplotlib.pyplot as plt\n",
    "import seaborn as sns"
   ]
  },
  {
   "cell_type": "code",
   "execution_count": 2,
   "metadata": {},
   "outputs": [],
   "source": [
    "out = 'out'"
   ]
  },
  {
   "cell_type": "markdown",
   "metadata": {},
   "source": [
    "## K9me3"
   ]
  },
  {
   "cell_type": "code",
   "execution_count": 3,
   "metadata": {
    "scrolled": true
   },
   "outputs": [
    {
     "data": {
      "text/html": [
       "<div>\n",
       "<style scoped>\n",
       "    .dataframe tbody tr th:only-of-type {\n",
       "        vertical-align: middle;\n",
       "    }\n",
       "\n",
       "    .dataframe tbody tr th {\n",
       "        vertical-align: top;\n",
       "    }\n",
       "\n",
       "    .dataframe thead th {\n",
       "        text-align: right;\n",
       "    }\n",
       "</style>\n",
       "<table border=\"1\" class=\"dataframe\">\n",
       "  <thead>\n",
       "    <tr style=\"text-align: right;\">\n",
       "      <th></th>\n",
       "      <th>target</th>\n",
       "      <th>cell type</th>\n",
       "      <th>total A genome-wide</th>\n",
       "      <th>total A in chip/cut&amp;run peaks</th>\n",
       "      <th>total A in centromeres</th>\n",
       "      <th>mA genome-wide</th>\n",
       "      <th>mA in chip/cut&amp;run</th>\n",
       "      <th>mA in centromeres</th>\n",
       "      <th>mA/A genome-wide</th>\n",
       "      <th>mA/A in chip/cut&amp;run</th>\n",
       "      <th>...</th>\n",
       "      <th>mA/A in centromere over mA/A genome-wide</th>\n",
       "      <th>ELISA mA/A</th>\n",
       "      <th>nanopore/ELISA</th>\n",
       "      <th>total A in cut&amp;run + 10kb</th>\n",
       "      <th>mA in cut&amp;run + 10kb</th>\n",
       "      <th>mA/A in peak target over mA/A in non-target (outside peak + 10kb)</th>\n",
       "      <th>total A in HOR</th>\n",
       "      <th>mA in HOR</th>\n",
       "      <th>mA/A in HOR</th>\n",
       "      <th>mA/A in HOR over mA/A outside centromeres</th>\n",
       "    </tr>\n",
       "  </thead>\n",
       "  <tbody>\n",
       "    <tr>\n",
       "      <th>0</th>\n",
       "      <td>H3K9me3</td>\n",
       "      <td>HG002</td>\n",
       "      <td>1801261088</td>\n",
       "      <td>46649090</td>\n",
       "      <td>181677009</td>\n",
       "      <td>1839964</td>\n",
       "      <td>147975</td>\n",
       "      <td>383916</td>\n",
       "      <td>0.001021</td>\n",
       "      <td>0.003172</td>\n",
       "      <td>...</td>\n",
       "      <td>2.351</td>\n",
       "      <td>0.00161</td>\n",
       "      <td>0.63</td>\n",
       "      <td>704157660</td>\n",
       "      <td>1168872</td>\n",
       "      <td>5.185739</td>\n",
       "      <td>23776193</td>\n",
       "      <td>94738</td>\n",
       "      <td>0.003985</td>\n",
       "      <td>4.432102</td>\n",
       "    </tr>\n",
       "    <tr>\n",
       "      <th>1</th>\n",
       "      <td>IgG</td>\n",
       "      <td>HG002</td>\n",
       "      <td>725052981</td>\n",
       "      <td>17943599</td>\n",
       "      <td>69359359</td>\n",
       "      <td>75843</td>\n",
       "      <td>2278</td>\n",
       "      <td>7981</td>\n",
       "      <td>0.000105</td>\n",
       "      <td>0.000127</td>\n",
       "      <td>...</td>\n",
       "      <td>1.112</td>\n",
       "      <td>0.00013</td>\n",
       "      <td>0.80</td>\n",
       "      <td>270234203</td>\n",
       "      <td>29775</td>\n",
       "      <td>1.253381</td>\n",
       "      <td>7870638</td>\n",
       "      <td>821</td>\n",
       "      <td>0.000104</td>\n",
       "      <td>1.007877</td>\n",
       "    </tr>\n",
       "    <tr>\n",
       "      <th>2</th>\n",
       "      <td>free pA-Hia5</td>\n",
       "      <td>HG002</td>\n",
       "      <td>1570216096</td>\n",
       "      <td>37645338</td>\n",
       "      <td>143701542</td>\n",
       "      <td>2490153</td>\n",
       "      <td>58185</td>\n",
       "      <td>177683</td>\n",
       "      <td>0.001586</td>\n",
       "      <td>0.001546</td>\n",
       "      <td>...</td>\n",
       "      <td>0.763</td>\n",
       "      <td>0.00356</td>\n",
       "      <td>0.45</td>\n",
       "      <td>583702075</td>\n",
       "      <td>887325</td>\n",
       "      <td>0.951297</td>\n",
       "      <td>17117383</td>\n",
       "      <td>7384</td>\n",
       "      <td>0.000431</td>\n",
       "      <td>0.266106</td>\n",
       "    </tr>\n",
       "  </tbody>\n",
       "</table>\n",
       "<p>3 rows × 22 columns</p>\n",
       "</div>"
      ],
      "text/plain": [
       "         target cell type  total A genome-wide  total A in chip/cut&run peaks  \\\n",
       "0       H3K9me3     HG002           1801261088                       46649090   \n",
       "1           IgG     HG002            725052981                       17943599   \n",
       "2  free pA-Hia5     HG002           1570216096                       37645338   \n",
       "\n",
       "   total A in centromeres  mA genome-wide  mA in chip/cut&run  \\\n",
       "0               181677009         1839964              147975   \n",
       "1                69359359           75843                2278   \n",
       "2               143701542         2490153               58185   \n",
       "\n",
       "   mA in centromeres  mA/A genome-wide  mA/A in chip/cut&run  ...  \\\n",
       "0             383916          0.001021              0.003172  ...   \n",
       "1               7981          0.000105              0.000127  ...   \n",
       "2             177683          0.001586              0.001546  ...   \n",
       "\n",
       "   mA/A in centromere over mA/A genome-wide  ELISA mA/A  nanopore/ELISA  \\\n",
       "0                                     2.351     0.00161            0.63   \n",
       "1                                     1.112     0.00013            0.80   \n",
       "2                                     0.763     0.00356            0.45   \n",
       "\n",
       "   total A in cut&run + 10kb  mA in cut&run + 10kb  \\\n",
       "0                  704157660               1168872   \n",
       "1                  270234203                 29775   \n",
       "2                  583702075                887325   \n",
       "\n",
       "   mA/A in peak target over mA/A in non-target (outside peak + 10kb)  \\\n",
       "0                                           5.185739                   \n",
       "1                                           1.253381                   \n",
       "2                                           0.951297                   \n",
       "\n",
       "   total A in HOR  mA in HOR  mA/A in HOR  \\\n",
       "0        23776193      94738     0.003985   \n",
       "1         7870638        821     0.000104   \n",
       "2        17117383       7384     0.000431   \n",
       "\n",
       "   mA/A in HOR over mA/A outside centromeres  \n",
       "0                                   4.432102  \n",
       "1                                   1.007877  \n",
       "2                                   0.266106  \n",
       "\n",
       "[3 rows x 22 columns]"
      ]
     },
     "execution_count": 3,
     "metadata": {},
     "output_type": "execute_result"
    }
   ],
   "source": [
    "data = pd.read_csv('k9me3_enrich.csv')\n",
    "data.head()"
   ]
  },
  {
   "cell_type": "code",
   "execution_count": 4,
   "metadata": {},
   "outputs": [
    {
     "data": {
      "text/plain": [
       "Index(['target', 'cell type', 'total A genome-wide',\n",
       "       'total A in chip/cut&run peaks', 'total A in centromeres',\n",
       "       'mA genome-wide', 'mA in chip/cut&run', 'mA in centromeres',\n",
       "       'mA/A genome-wide', 'mA/A in chip/cut&run', 'mA/A in centromeres',\n",
       "       'mA/A in target over mA/A not in peaks',\n",
       "       'mA/A in centromere over mA/A genome-wide', 'ELISA mA/A',\n",
       "       'nanopore/ELISA', 'total A in cut&run + 10kb', 'mA in cut&run + 10kb',\n",
       "       'mA/A in peak target over mA/A in non-target (outside peak + 10kb)',\n",
       "       'total A in HOR', 'mA in HOR', 'mA/A in HOR',\n",
       "       'mA/A in HOR over mA/A outside centromeres'],\n",
       "      dtype='object')"
      ]
     },
     "execution_count": 4,
     "metadata": {},
     "output_type": "execute_result"
    }
   ],
   "source": [
    "data.columns"
   ]
  },
  {
   "cell_type": "code",
   "execution_count": 5,
   "metadata": {},
   "outputs": [],
   "source": [
    "#Give a uniform prior for methylation protportion. proportion p is distributed as Beta(1+mA, 1+(A-mA)) for each.\n",
    "def calculate_ci(total_A_genome_wide, total_A_target, total_A_remove, mA_genome_wide, mA_target, mA_remove):\n",
    "    g_total = total_A_genome_wide - total_A_remove\n",
    "    g_mA = mA_genome_wide - mA_remove\n",
    "    print((mA_target/total_A_target)/(g_mA/g_total))\n",
    "    t = np.random.beta(1 + mA_target, 1 + (total_A_target - mA_target), size=100000)\n",
    "    g = np.random.beta(1 + g_mA, 1 + (g_total - g_mA), size=100000)\n",
    "    \n",
    "    ratio = t/g\n",
    "    \n",
    "    ci_ratio_lower = np.percentile(ratio, 2.5)\n",
    "    ci_ratio_upper = np.percentile(ratio, 97.5)\n",
    "    \n",
    "    return [ci_ratio_lower, ci_ratio_upper]"
   ]
  },
  {
   "cell_type": "code",
   "execution_count": 6,
   "metadata": {},
   "outputs": [],
   "source": [
    "cmap = ['#610345','#559CAD', '#A9E5BB']"
   ]
  },
  {
   "cell_type": "code",
   "execution_count": 7,
   "metadata": {},
   "outputs": [
    {
     "name": "stdout",
     "output_type": "stream",
     "text": [
      "5.185739334220505\n",
      "1.2533812495857102\n",
      "0.9512971143780774\n"
     ]
    }
   ],
   "source": [
    "data['ci'] = data.apply(lambda row : calculate_ci(row['total A genome-wide'], row['total A in chip/cut&run peaks'], row['total A in cut&run + 10kb'], \n",
    "                                     row['mA genome-wide'], row['mA in chip/cut&run'], row['mA in cut&run + 10kb']), axis=1)"
   ]
  },
  {
   "cell_type": "code",
   "execution_count": 8,
   "metadata": {},
   "outputs": [],
   "source": [
    "data['ci_ratio_lower'] = [item[0] for item in data['ci']]\n",
    "data['ci_ratio_upper'] = [item[1] for item in data['ci']]"
   ]
  },
  {
   "cell_type": "code",
   "execution_count": 32,
   "metadata": {
    "scrolled": true
   },
   "outputs": [
    {
     "data": {
      "image/png": "[encoded data removed]",
      "text/plain": [
       "<Figure size 432x288 with 1 Axes>"
      ]
     },
     "metadata": {
      "needs_background": "light"
     },
     "output_type": "display_data"
    }
   ],
   "source": [
    "fig, ax1 = plt.subplots()\n",
    "error = [data['mA/A in peak target over mA/A in non-target (outside peak + 10kb)'] - data['ci_ratio_lower'], data['ci_ratio_upper'] - data['mA/A in peak target over mA/A in non-target (outside peak + 10kb)']]\n",
    "plt.bar('target','mA/A in peak target over mA/A in non-target (outside peak + 10kb)', data=data, yerr=error, color=cmap, ecolor='grey', capsize=1);\n",
    "sns.despine(fig)\n",
    "plt.ylabel('fold enrichment in CUT&RUN peaks');\n",
    "plt.xlabel('')\n",
    "plt.savefig(out + '/enrich_cutrun.png', dpi=300)"
   ]
  },
  {
   "cell_type": "code",
   "execution_count": 10,
   "metadata": {},
   "outputs": [
    {
     "name": "stdout",
     "output_type": "stream",
     "text": [
      "2.3505205227399673\n",
      "1.1117996791488047\n",
      "0.7627540977059988\n"
     ]
    }
   ],
   "source": [
    "data['ci_cen'] = data.apply(lambda row : calculate_ci(row['total A genome-wide'], row['total A in centromeres'], row['total A in centromeres'], \n",
    "                                     row['mA genome-wide'], row['mA in centromeres'], row['mA in centromeres']), axis=1)"
   ]
  },
  {
   "cell_type": "code",
   "execution_count": 11,
   "metadata": {},
   "outputs": [
    {
     "name": "stdout",
     "output_type": "stream",
     "text": [
      "4.432101538935186\n",
      "1.0078769742348226\n",
      "0.2661058484594046\n"
     ]
    }
   ],
   "source": [
    "data['ci_hor'] = data.apply(lambda row : calculate_ci(row['total A genome-wide'], row['total A in HOR'], row['total A in centromeres'], \n",
    "                                     row['mA genome-wide'], row['mA in HOR'], row['mA in centromeres']), axis=1)"
   ]
  },
  {
   "cell_type": "code",
   "execution_count": 61,
   "metadata": {},
   "outputs": [
    {
     "data": {
      "image/png": "[encoded data removed]",
      "text/plain": [
       "<Figure size 432x288 with 1 Axes>"
      ]
     },
     "metadata": {
      "needs_background": "light"
     },
     "output_type": "display_data"
    }
   ],
   "source": [
    "data['ci_ratio_lower_cen'] = [item[0] for item in data['ci_cen']]\n",
    "data['ci_ratio_upper_cen'] = [item[1] for item in data['ci_cen']]\n",
    "data['ci_ratio_lower_hor'] = [item[0] for item in data['ci_hor']]\n",
    "data['ci_ratio_upper_hor'] = [item[1] for item in data['ci_hor']]\n",
    "cmap2 = ['#5E747F', '#FFBC0A']\n",
    "fig, ax1 = plt.subplots()\n",
    "tidy = data.melt(id_vars='target').rename(columns=str.title)\n",
    "tidy_small = tidy[(tidy['Variable'] == 'mA/A in HOR over mA/A outside centromeres') |\n",
    "    (tidy['Variable'] == 'mA/A in centromere over mA/A genome-wide')]\n",
    "\n",
    "error_cen = [data['mA/A in centromere over mA/A genome-wide'] - data['ci_ratio_lower_cen'], data['ci_ratio_upper_cen'] - data['mA/A in centromere over mA/A genome-wide']]\n",
    "error_hor = [data['mA/A in HOR over mA/A outside centromeres'] - data['ci_ratio_lower_hor'], data['ci_ratio_upper_hor'] - data['mA/A in HOR over mA/A outside centromeres']]\n",
    "\n",
    "barWidth = 0.4\n",
    "\n",
    "bars1 = data['mA/A in centromere over mA/A genome-wide']\n",
    "bars2 = data['mA/A in HOR over mA/A outside centromeres']\n",
    "\n",
    "r1 = np.arange(len(bars1))\n",
    "r2 = [x + barWidth for x in r1]\n",
    "\n",
    "plt.bar(r1, bars1, yerr=error_cen, color='#5E747F', ecolor='grey', capsize=1, label='centromeres', width=barWidth);\n",
    "plt.bar(r2, bars2, yerr=error_hor, color='#FFBC0A', ecolor='grey', capsize=1, label='HORs', width=barWidth);\n",
    " \n",
    "# Add xticks on the middle of the group bars\n",
    "plt.xticks([r + barWidth/2 for r in range(len(bars1))], data['target'])\n",
    " \n",
    "# Create legend & Show graphic\n",
    "sns.despine(fig)\n",
    "plt.ylabel('fold enrichment')\n",
    "plt.legend(bbox_to_anchor=(1.05, 1), loc=2, borderaxespad=0.)\n",
    "plt.savefig(out + '/enrich_cen.png', dpi=300)"
   ]
  },
  {
   "cell_type": "markdown",
   "metadata": {},
   "source": [
    "## CTCF"
   ]
  },
  {
   "cell_type": "code",
   "execution_count": 14,
   "metadata": {},
   "outputs": [
    {
     "data": {
      "text/html": [
       "<div>\n",
       "<style scoped>\n",
       "    .dataframe tbody tr th:only-of-type {\n",
       "        vertical-align: middle;\n",
       "    }\n",
       "\n",
       "    .dataframe tbody tr th {\n",
       "        vertical-align: top;\n",
       "    }\n",
       "\n",
       "    .dataframe thead th {\n",
       "        text-align: right;\n",
       "    }\n",
       "</style>\n",
       "<table border=\"1\" class=\"dataframe\">\n",
       "  <thead>\n",
       "    <tr style=\"text-align: right;\">\n",
       "      <th></th>\n",
       "      <th>sample #</th>\n",
       "      <th>target</th>\n",
       "      <th>cell type</th>\n",
       "      <th>total A genome-wide</th>\n",
       "      <th>total A in chip/cut&amp;run peaks</th>\n",
       "      <th>mA genome-wide</th>\n",
       "      <th>mA in chip/cut&amp;run</th>\n",
       "      <th>mA/A genome-wide</th>\n",
       "      <th>mA/A in chip/cut&amp;run</th>\n",
       "      <th>mA/A in target over mA/A not in peaks</th>\n",
       "    </tr>\n",
       "  </thead>\n",
       "  <tbody>\n",
       "    <tr>\n",
       "      <th>0</th>\n",
       "      <td>4</td>\n",
       "      <td>CTCF</td>\n",
       "      <td>GM12878</td>\n",
       "      <td>1656892198</td>\n",
       "      <td>6400273</td>\n",
       "      <td>2219846</td>\n",
       "      <td>171620</td>\n",
       "      <td>0.001340</td>\n",
       "      <td>0.026814</td>\n",
       "      <td>21.608</td>\n",
       "    </tr>\n",
       "    <tr>\n",
       "      <th>1</th>\n",
       "      <td>5</td>\n",
       "      <td>IgG</td>\n",
       "      <td>GM12878</td>\n",
       "      <td>1472043472</td>\n",
       "      <td>5724871</td>\n",
       "      <td>109963</td>\n",
       "      <td>1822</td>\n",
       "      <td>0.000075</td>\n",
       "      <td>0.000318</td>\n",
       "      <td>4.315</td>\n",
       "    </tr>\n",
       "    <tr>\n",
       "      <th>2</th>\n",
       "      <td>6</td>\n",
       "      <td>free pA-Hia5</td>\n",
       "      <td>GM12878</td>\n",
       "      <td>1440077917</td>\n",
       "      <td>5607119</td>\n",
       "      <td>4243776</td>\n",
       "      <td>101695</td>\n",
       "      <td>0.002947</td>\n",
       "      <td>0.018137</td>\n",
       "      <td>6.281</td>\n",
       "    </tr>\n",
       "  </tbody>\n",
       "</table>\n",
       "</div>"
      ],
      "text/plain": [
       "   sample #        target cell type  total A genome-wide  \\\n",
       "0         4          CTCF   GM12878           1656892198   \n",
       "1         5           IgG   GM12878           1472043472   \n",
       "2         6  free pA-Hia5   GM12878           1440077917   \n",
       "\n",
       "   total A in chip/cut&run peaks  mA genome-wide  mA in chip/cut&run  \\\n",
       "0                        6400273         2219846              171620   \n",
       "1                        5724871          109963                1822   \n",
       "2                        5607119         4243776              101695   \n",
       "\n",
       "   mA/A genome-wide  mA/A in chip/cut&run  \\\n",
       "0          0.001340              0.026814   \n",
       "1          0.000075              0.000318   \n",
       "2          0.002947              0.018137   \n",
       "\n",
       "   mA/A in target over mA/A not in peaks  \n",
       "0                                 21.608  \n",
       "1                                  4.315  \n",
       "2                                  6.281  "
      ]
     },
     "execution_count": 14,
     "metadata": {},
     "output_type": "execute_result"
    }
   ],
   "source": [
    "data_ctcf = pd.read_csv('ctcf_enrich.csv')\n",
    "data_ctcf.head()"
   ]
  },
  {
   "cell_type": "code",
   "execution_count": 15,
   "metadata": {},
   "outputs": [],
   "source": [
    "out_ctcf = 'out'"
   ]
  },
  {
   "cell_type": "code",
   "execution_count": 16,
   "metadata": {},
   "outputs": [
    {
     "data": {
      "text/plain": [
       "Index(['sample #', 'target', 'cell type', 'total A genome-wide',\n",
       "       'total A in chip/cut&run peaks', 'mA genome-wide', 'mA in chip/cut&run',\n",
       "       'mA/A genome-wide', 'mA/A in chip/cut&run',\n",
       "       'mA/A in target over mA/A not in peaks'],\n",
       "      dtype='object')"
      ]
     },
     "execution_count": 16,
     "metadata": {},
     "output_type": "execute_result"
    }
   ],
   "source": [
    "data_ctcf.columns"
   ]
  },
  {
   "cell_type": "code",
   "execution_count": 19,
   "metadata": {},
   "outputs": [
    {
     "name": "stdout",
     "output_type": "stream",
     "text": [
      "21.607520207760043\n",
      "4.315395756540256\n",
      "6.281060137968503\n"
     ]
    }
   ],
   "source": [
    "data_ctcf['ci'] = data_ctcf.apply(lambda row : calculate_ci(row['total A genome-wide'], row['total A in chip/cut&run peaks'], row['total A in chip/cut&run peaks'], \n",
    "                                     row['mA genome-wide'], row['mA in chip/cut&run'], row['mA in chip/cut&run']), axis=1)"
   ]
  },
  {
   "cell_type": "code",
   "execution_count": 20,
   "metadata": {},
   "outputs": [],
   "source": [
    "data_ctcf['ci_ratio_lower'] = [item[0] for item in data_ctcf['ci']]\n",
    "data_ctcf['ci_ratio_upper'] = [item[1] for item in data_ctcf['ci']]"
   ]
  },
  {
   "cell_type": "code",
   "execution_count": 24,
   "metadata": {},
   "outputs": [
    {
     "data": {
      "image/png": "[encoded data removed]",
      "text/plain": [
       "<Figure size 432x288 with 1 Axes>"
      ]
     },
     "metadata": {
      "needs_background": "light"
     },
     "output_type": "display_data"
    }
   ],
   "source": [
    "fig, ax1 = plt.subplots()\n",
    "\n",
    "error = [data_ctcf['mA/A in target over mA/A not in peaks'] - data_ctcf['ci_ratio_lower'], data_ctcf['ci_ratio_upper'] - data_ctcf['mA/A in target over mA/A not in peaks']]\n",
    "plt.bar('target','mA/A in target over mA/A not in peaks', data=data_ctcf, yerr=error, color=cmap, ecolor='grey', capsize=1);\n",
    "sns.despine(fig)\n",
    "\n",
    "plt.ylabel('fold enrichment in ChIP-seq peaks');\n",
    "plt.xlabel('')\n",
    "plt.savefig(out_ctcf + '/enrich_chip.png', dpi=300)"
   ]
  }
 ],
 "metadata": {
  "kernelspec": {
   "display_name": "Python 3",
   "language": "python",
   "name": "python3"
  },
  "language_info": {
   "codemirror_mode": {
    "name": "ipython",
    "version": 3
   },
   "file_extension": ".py",
   "mimetype": "text/x-python",
   "name": "python",
   "nbconvert_exporter": "python",
   "pygments_lexer": "ipython3",
   "version": "3.7.6"
  }
 },
 "nbformat": 4,
 "nbformat_minor": 4
}
