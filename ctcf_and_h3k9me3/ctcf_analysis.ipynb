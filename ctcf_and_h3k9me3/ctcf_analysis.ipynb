{
 "cells": [
  {
   "cell_type": "markdown",
   "metadata": {},
   "source": [
    "### Analyze peak center resolution and methylation decay (separate L and R)\n",
    "### At the strongest peaks, what's the achievable resolution\n",
    "#### Annie Maslan\n",
    "#### 06.27.21\n",
    "##### Call peaks in quartile 4. For reads with peak, what is the distance from the motif center?"
   ]
  },
  {
   "cell_type": "code",
   "execution_count": 1,
   "metadata": {},
   "outputs": [],
   "source": [
    "import os\n",
    "import numpy as np\n",
    "import pandas as pd\n",
    "\n",
    "# plotting & display imports\n",
    "%matplotlib inline\n",
    "import matplotlib.pyplot as plt\n",
    "import seaborn as sns\n",
    "\n",
    "import scipy as sp\n",
    "from scipy import signal\n",
    "from scipy.optimize import curve_fit\n",
    "import scipy.stats\n",
    "import itertools"
   ]
  },
  {
   "cell_type": "code",
   "execution_count": 2,
   "metadata": {},
   "outputs": [],
   "source": [
    "out = 'out'"
   ]
  },
  {
   "cell_type": "code",
   "execution_count": 3,
   "metadata": {},
   "outputs": [],
   "source": [
    "ctcf_mA = pd.read_csv('ctcf_allquart4_all_data_mA.csv')"
   ]
  },
  {
   "cell_type": "code",
   "execution_count": 4,
   "metadata": {},
   "outputs": [
    {
     "data": {
      "text/html": [
       "<div>\n",
       "<style scoped>\n",
       "    .dataframe tbody tr th:only-of-type {\n",
       "        vertical-align: middle;\n",
       "    }\n",
       "\n",
       "    .dataframe tbody tr th {\n",
       "        vertical-align: top;\n",
       "    }\n",
       "\n",
       "    .dataframe thead th {\n",
       "        text-align: right;\n",
       "    }\n",
       "</style>\n",
       "<table border=\"1\" class=\"dataframe\">\n",
       "  <thead>\n",
       "    <tr style=\"text-align: right;\">\n",
       "      <th></th>\n",
       "      <th>read_name</th>\n",
       "      <th>strand</th>\n",
       "      <th>pos</th>\n",
       "      <th>quality</th>\n",
       "      <th>mod</th>\n",
       "    </tr>\n",
       "  </thead>\n",
       "  <tbody>\n",
       "    <tr>\n",
       "      <th>0</th>\n",
       "      <td>37b4ab41-3993-474f-aade-62aa0d8d752c</td>\n",
       "      <td>-</td>\n",
       "      <td>-988</td>\n",
       "      <td>0</td>\n",
       "      <td>A+Y</td>\n",
       "    </tr>\n",
       "    <tr>\n",
       "      <th>1</th>\n",
       "      <td>37b4ab41-3993-474f-aade-62aa0d8d752c</td>\n",
       "      <td>-</td>\n",
       "      <td>-983</td>\n",
       "      <td>0</td>\n",
       "      <td>A+Y</td>\n",
       "    </tr>\n",
       "    <tr>\n",
       "      <th>2</th>\n",
       "      <td>37b4ab41-3993-474f-aade-62aa0d8d752c</td>\n",
       "      <td>-</td>\n",
       "      <td>-982</td>\n",
       "      <td>0</td>\n",
       "      <td>A+Y</td>\n",
       "    </tr>\n",
       "    <tr>\n",
       "      <th>3</th>\n",
       "      <td>37b4ab41-3993-474f-aade-62aa0d8d752c</td>\n",
       "      <td>-</td>\n",
       "      <td>-978</td>\n",
       "      <td>0</td>\n",
       "      <td>A+Y</td>\n",
       "    </tr>\n",
       "    <tr>\n",
       "      <th>4</th>\n",
       "      <td>37b4ab41-3993-474f-aade-62aa0d8d752c</td>\n",
       "      <td>-</td>\n",
       "      <td>-977</td>\n",
       "      <td>0</td>\n",
       "      <td>A+Y</td>\n",
       "    </tr>\n",
       "  </tbody>\n",
       "</table>\n",
       "</div>"
      ],
      "text/plain": [
       "                              read_name strand  pos  quality  mod\n",
       "0  37b4ab41-3993-474f-aade-62aa0d8d752c      - -988        0  A+Y\n",
       "1  37b4ab41-3993-474f-aade-62aa0d8d752c      - -983        0  A+Y\n",
       "2  37b4ab41-3993-474f-aade-62aa0d8d752c      - -982        0  A+Y\n",
       "3  37b4ab41-3993-474f-aade-62aa0d8d752c      - -978        0  A+Y\n",
       "4  37b4ab41-3993-474f-aade-62aa0d8d752c      - -977        0  A+Y"
      ]
     },
     "execution_count": 4,
     "metadata": {},
     "output_type": "execute_result"
    }
   ],
   "source": [
    "ctcf_mA.head()"
   ]
  },
  {
   "cell_type": "code",
   "execution_count": 5,
   "metadata": {},
   "outputs": [
    {
     "data": {
      "text/html": [
       "<div>\n",
       "<style scoped>\n",
       "    .dataframe tbody tr th:only-of-type {\n",
       "        vertical-align: middle;\n",
       "    }\n",
       "\n",
       "    .dataframe tbody tr th {\n",
       "        vertical-align: top;\n",
       "    }\n",
       "\n",
       "    .dataframe thead th {\n",
       "        text-align: right;\n",
       "    }\n",
       "</style>\n",
       "<table border=\"1\" class=\"dataframe\">\n",
       "  <thead>\n",
       "    <tr style=\"text-align: right;\">\n",
       "      <th></th>\n",
       "      <th>pos</th>\n",
       "      <th>quality</th>\n",
       "    </tr>\n",
       "  </thead>\n",
       "  <tbody>\n",
       "    <tr>\n",
       "      <th>count</th>\n",
       "      <td>1.498689e+07</td>\n",
       "      <td>1.498689e+07</td>\n",
       "    </tr>\n",
       "    <tr>\n",
       "      <th>mean</th>\n",
       "      <td>-5.166378e+00</td>\n",
       "      <td>5.760401e+00</td>\n",
       "    </tr>\n",
       "    <tr>\n",
       "      <th>std</th>\n",
       "      <td>5.793153e+02</td>\n",
       "      <td>2.776282e+01</td>\n",
       "    </tr>\n",
       "    <tr>\n",
       "      <th>min</th>\n",
       "      <td>-1.000000e+03</td>\n",
       "      <td>0.000000e+00</td>\n",
       "    </tr>\n",
       "    <tr>\n",
       "      <th>25%</th>\n",
       "      <td>-5.080000e+02</td>\n",
       "      <td>0.000000e+00</td>\n",
       "    </tr>\n",
       "    <tr>\n",
       "      <th>50%</th>\n",
       "      <td>-1.500000e+01</td>\n",
       "      <td>0.000000e+00</td>\n",
       "    </tr>\n",
       "    <tr>\n",
       "      <th>75%</th>\n",
       "      <td>4.980000e+02</td>\n",
       "      <td>0.000000e+00</td>\n",
       "    </tr>\n",
       "    <tr>\n",
       "      <th>max</th>\n",
       "      <td>1.000000e+03</td>\n",
       "      <td>2.550000e+02</td>\n",
       "    </tr>\n",
       "  </tbody>\n",
       "</table>\n",
       "</div>"
      ],
      "text/plain": [
       "                pos       quality\n",
       "count  1.498689e+07  1.498689e+07\n",
       "mean  -5.166378e+00  5.760401e+00\n",
       "std    5.793153e+02  2.776282e+01\n",
       "min   -1.000000e+03  0.000000e+00\n",
       "25%   -5.080000e+02  0.000000e+00\n",
       "50%   -1.500000e+01  0.000000e+00\n",
       "75%    4.980000e+02  0.000000e+00\n",
       "max    1.000000e+03  2.550000e+02"
      ]
     },
     "execution_count": 5,
     "metadata": {},
     "output_type": "execute_result"
    }
   ],
   "source": [
    "ctcf_mA.describe()"
   ]
  },
  {
   "cell_type": "markdown",
   "metadata": {},
   "source": [
    "## analysis of inter-peak distance and m6A decay from motif center"
   ]
  },
  {
   "cell_type": "code",
   "execution_count": 91,
   "metadata": {},
   "outputs": [],
   "source": [
    "def decay_analysis(A, name):\n",
    "    mA_90 = A[A['quality'] > 230]\n",
    "    mA_90['quality'] = 1\n",
    "    A['presence'] = 1\n",
    "\n",
    "    mA_90['pos'] = abs(mA_90['pos'])\n",
    "    A['pos'] = abs(A['pos'])\n",
    "\n",
    "    mA_90 = pd.pivot_table(mA_90, values = 'quality', columns = 'pos', index='read_name')\n",
    "    A = pd.pivot_table(A, values = 'presence', columns='pos', index='read_name')\n",
    "\n",
    "    mA_90_count = mA_90.sum(axis=0)\n",
    "    A_count = A.sum(axis=0)\n",
    "\n",
    "    mod_frac = mA_90_count / A_count\n",
    "\n",
    "    calculate_resolution(mod_frac, name, 10, 0.001, 1)"
   ]
  },
  {
   "cell_type": "code",
   "execution_count": 92,
   "metadata": {},
   "outputs": [],
   "source": [
    "def func(x, a, b, c):\n",
    "    return a * np.exp(-b * x) + c"
   ]
  },
  {
   "cell_type": "code",
   "execution_count": 93,
   "metadata": {},
   "outputs": [],
   "source": [
    "def calculate_resolution(data, name, a, b, c):\n",
    "    peaks = sp.signal.find_peaks(data, distance=140)\n",
    "    p = peaks[0]\n",
    "    diff_list = []\n",
    "    for x, y in zip(p[0::], p[1::]):\n",
    "        diff_list.append(y-x)\n",
    "    print('peaks: ', str(p))\n",
    "    print('peak differences: ', str(diff_list))\n",
    "    subset_peaks = data.iloc[peaks[0]]\n",
    "    popt, pcov = curve_fit(func, subset_peaks.index, subset_peaks.values, p0=[a, b, c])\n",
    "    fig = plt.figure()\n",
    "    sns.lineplot(data=data, color='#053C5E')\n",
    "    plt.plot(data.index, func(data.index, *popt), 'g--', label='fit: a=%5.3f, b=%5.3f, c=%5.3f' % tuple(popt), color='#5E747F');\n",
    "    plt.legend()\n",
    "    plt.show()\n",
    "    half_life = np.log((subset_peaks.values[0]/2 - popt[2])/popt[0])/-popt[1]\n",
    "    decay_const = 1/popt[1]\n",
    "    fig.savefig(out + '/' + name + '_exp_fit.png', dpi=300)\n",
    "    print('half life:', half_life)\n",
    "    print('decay constant:', decay_const)"
   ]
  },
  {
   "cell_type": "code",
   "execution_count": 94,
   "metadata": {},
   "outputs": [
    {
     "name": "stderr",
     "output_type": "stream",
     "text": [
      "/Users/annie/miniconda3/lib/python3.7/site-packages/ipykernel_launcher.py:3: SettingWithCopyWarning: \n",
      "A value is trying to be set on a copy of a slice from a DataFrame.\n",
      "Try using .loc[row_indexer,col_indexer] = value instead\n",
      "\n",
      "See the caveats in the documentation: https://pandas.pydata.org/pandas-docs/stable/user_guide/indexing.html#returning-a-view-versus-a-copy\n",
      "  This is separate from the ipykernel package so we can avoid doing imports until\n",
      "/Users/annie/miniconda3/lib/python3.7/site-packages/ipykernel_launcher.py:6: SettingWithCopyWarning: \n",
      "A value is trying to be set on a copy of a slice from a DataFrame.\n",
      "Try using .loc[row_indexer,col_indexer] = value instead\n",
      "\n",
      "See the caveats in the documentation: https://pandas.pydata.org/pandas-docs/stable/user_guide/indexing.html#returning-a-view-versus-a-copy\n",
      "  \n"
     ]
    },
    {
     "name": "stdout",
     "output_type": "stream",
     "text": [
      "peaks:  [ 38 233 407 582 788 982]\n",
      "peak differences:  [195, 174, 175, 206, 194]\n"
     ]
    },
    {
     "data": {
      "image/png": "[encoded data removed]",
      "text/plain": [
       "<Figure size 432x288 with 1 Axes>"
      ]
     },
     "metadata": {
      "needs_background": "light"
     },
     "output_type": "display_data"
    },
    {
     "name": "stdout",
     "output_type": "stream",
     "text": [
      "half life: 138.8115960502252\n",
      "decay constant: 124.874133058867\n"
     ]
    }
   ],
   "source": [
    "decay_analysis(ctcf_mA, 'CTCF_meg')"
   ]
  },
  {
   "cell_type": "markdown",
   "metadata": {},
   "source": [
    "## Analysis of % reads with mA by decile"
   ]
  },
  {
   "cell_type": "code",
   "execution_count": 97,
   "metadata": {},
   "outputs": [],
   "source": [
    "out_decile = 'out'"
   ]
  },
  {
   "cell_type": "code",
   "execution_count": 99,
   "metadata": {},
   "outputs": [],
   "source": [
    "ctcf_q10 = pd.read_csv('meg_CTCF_CTCF_q10_all_data_mA.csv')\n",
    "ctcf_q9 = pd.read_csv('meg_CTCF_CTCF_q9_all_data_mA.csv')\n",
    "ctcf_q8 = pd.read_csv('meg_CTCF_CTCF_q8_all_data_mA.csv')\n",
    "ctcf_q7 = pd.read_csv('meg_CTCF_CTCF_q7_all_data_mA.csv')\n",
    "ctcf_q6 = pd.read_csv('meg_CTCF_CTCF_q6_all_data_mA.csv')\n",
    "ctcf_q5 = pd.read_csv('meg_CTCF_CTCF_q5_all_data_mA.csv')\n",
    "ctcf_q4 = pd.read_csv('meg_CTCF_CTCF_q4_all_data_mA.csv')\n",
    "ctcf_q3 = pd.read_csv('meg_CTCF_CTCF_q3_all_data_mA.csv')\n",
    "ctcf_q2 = pd.read_csv('meg_CTCF_CTCF_q2_all_data_mA.csv')\n",
    "ctcf_q1 = pd.read_csv('meg_CTCF_CTCF_1_all_data_mA.csv')"
   ]
  },
  {
   "cell_type": "code",
   "execution_count": 110,
   "metadata": {},
   "outputs": [],
   "source": [
    "igg_q10 = pd.read_csv('meg_IgG_CTCF_q10_all_data_mA.csv')\n",
    "igg_q9 = pd.read_csv('meg_IgG_CTCF_q9_all_data_mA.csv')\n",
    "igg_q8 = pd.read_csv('meg_IgG_CTCF_q8_all_data_mA.csv')\n",
    "igg_q7 = pd.read_csv('meg_IgG_CTCF_q7_all_data_mA.csv')\n",
    "igg_q6 = pd.read_csv('meg_IgG_CTCF_q6_all_data_mA.csv')\n",
    "igg_q5 = pd.read_csv('meg_IgG_CTCF_q5_all_data_mA.csv')\n",
    "igg_q4 = pd.read_csv('meg_IgG_CTCF_q4_all_data_mA.csv')\n",
    "igg_q3 = pd.read_csv('meg_IgG_CTCF_q3_all_data_mA.csv')\n",
    "igg_q2 = pd.read_csv('meg_IgG_CTCF_q2_all_data_mA.csv')\n",
    "igg_q1 = pd.read_csv('meg_IgG_CTCF_q1_all_data_mA.csv')"
   ]
  },
  {
   "cell_type": "code",
   "execution_count": 153,
   "metadata": {},
   "outputs": [],
   "source": [
    "def calc_frac_peak(data):\n",
    "    data_peak = data[(data['pos'] >= -100) & (data['pos'] <= 100)]\n",
    "    data_peak_t90 = data_peak[data_peak['quality'] >= 153]\n",
    "    return len(data['read_name'].unique()), len(data_peak_t90['read_name'].unique())"
   ]
  },
  {
   "cell_type": "code",
   "execution_count": 154,
   "metadata": {},
   "outputs": [],
   "source": [
    "all_data = [ctcf_q10,ctcf_q9,ctcf_q8,ctcf_q7,ctcf_q6,ctcf_q5,ctcf_q4,ctcf_q3,ctcf_q2,ctcf_q1]\n",
    "reads = []\n",
    "peak_reads = []\n",
    "frac = []\n",
    "deciles = [10, 9, 8, 7, 6, 5, 4, 3, 2, 1]\n",
    "for d in all_data:\n",
    "    r, pr = calc_frac_peak(d)\n",
    "    reads.append(r)\n",
    "    reads.append(pr)\n",
    "    frac.append(pr/r)"
   ]
  },
  {
   "cell_type": "code",
   "execution_count": 155,
   "metadata": {},
   "outputs": [
    {
     "name": "stdout",
     "output_type": "stream",
     "text": [
      "[0.40158089182919493, 0.3688805203697364, 0.35093956323006603, 0.31967700807479815, 0.294981955662485, 0.28116938950988823, 0.24144503162089578, 0.20406719717064545, 0.16273501241575028, 0.11981848328824504]\n"
     ]
    }
   ],
   "source": [
    "print(frac)"
   ]
  },
  {
   "cell_type": "code",
   "execution_count": 156,
   "metadata": {},
   "outputs": [],
   "source": [
    "all_data_igg = [igg_q10,igg_q9,igg_q8,igg_q7,igg_q6,igg_q5,igg_q4,igg_q3,igg_q2,igg_q1]\n",
    "reads = []\n",
    "peak_reads = []\n",
    "frac_igg = []\n",
    "for d in all_data_igg:\n",
    "    r, pr = calc_frac_peak(d)\n",
    "    reads.append(r)\n",
    "    reads.append(pr)\n",
    "    frac_igg.append(pr/r)"
   ]
  },
  {
   "cell_type": "code",
   "execution_count": 157,
   "metadata": {},
   "outputs": [
    {
     "name": "stdout",
     "output_type": "stream",
     "text": [
      "[0.023777538957549704, 0.025922909880564605, 0.023862068965517243, 0.020171732315660353, 0.019599723947550034, 0.019497109049347854, 0.015048070224327713, 0.018132242672119974, 0.013902405116085082, 0.015126958400864398]\n"
     ]
    }
   ],
   "source": [
    "print(frac_igg)"
   ]
  },
  {
   "cell_type": "code",
   "execution_count": 160,
   "metadata": {},
   "outputs": [
    {
     "data": {
      "image/png": "[encoded data removed]",
      "text/plain": [
       "<Figure size 432x288 with 1 Axes>"
      ]
     },
     "metadata": {
      "needs_background": "light"
     },
     "output_type": "display_data"
    }
   ],
   "source": [
    "fig = plt.figure()\n",
    "plt.plot(deciles, frac, 'o', color='#053C5E')\n",
    "plt.plot(deciles, frac_igg, 'o', color='#5E747F');\n",
    "plt.ylabel('Fraction of reads with mA in peaks')\n",
    "plt.xlabel('Decile of ChIP-seq peak signal')\n",
    "plt.legend(['CTCF-targeted', 'IgG control'])\n",
    "fig.savefig(out_decile + '/decile_analysis.pdf')"
   ]
  },
  {
   "cell_type": "code",
   "execution_count": null,
   "metadata": {},
   "outputs": [],
   "source": []
  }
 ],
 "metadata": {
  "kernelspec": {
   "display_name": "Python 3",
   "language": "python",
   "name": "python3"
  },
  "language_info": {
   "codemirror_mode": {
    "name": "ipython",
    "version": 3
   },
   "file_extension": ".py",
   "mimetype": "text/x-python",
   "name": "python",
   "nbconvert_exporter": "python",
   "pygments_lexer": "ipython3",
   "version": "3.7.6"
  }
 },
 "nbformat": 4,
 "nbformat_minor": 4
}
