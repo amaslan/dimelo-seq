{
 "cells": [
  {
   "cell_type": "markdown",
   "metadata": {},
   "source": [
    "#This notebook shows calculation and plotting of mA/A for reads from different subsets of reads from each libary\n",
    "#Libraries - CENP-A DiMeLo-seq, IgG control, Free pA-Hia5 control, untreated control\n",
    "#subsets - reads with CENP-A-enriched-kmers, reads without CENP-A-enriched-kmers"
   ]
  },
  {
   "cell_type": "code",
   "execution_count": 1,
   "metadata": {
    "collapsed": true
   },
   "outputs": [],
   "source": [
    "import sys\n",
    "import os\n",
    "import pandas as pd\n",
    "import matplotlib.pyplot as plt\n",
    "import numpy as np\n",
    "import seaborn as sns\n",
    "from scipy.stats import kde\n",
    "%matplotlib inline\n",
    "\n",
    "import math\n",
    "import time\n",
    "\n",
    "import pysam\n",
    "from Bio import SeqIO\n",
    "\n",
    "from scipy import sparse\n",
    "\n",
    "from sklearn import cluster, datasets, mixture, decomposition\n",
    "#Setup the plotting context\n",
    "#sns.set(color_codes=True)\n",
    "#sns.set_context(\"talk\")\n",
    "#sns.set_style(\"darkgrid\")\n",
    "import scipy.spatial.distance as ssd\n",
    "from scipy.cluster import hierarchy\n",
    "from sklearn.metrics.pairwise import pairwise_distances"
   ]
  },
  {
   "cell_type": "code",
   "execution_count": 2,
   "metadata": {
    "collapsed": true
   },
   "outputs": [],
   "source": [
    "##Guppy output merged into a single bam file\n",
    "## Read ID | Flag | Ref | pos | MapQuality | Cigar | ref name of next read or mate | position of next read or mate | template length | sequence | quality score | Mm (modified base position skips) | Ml (modification confidence)"
   ]
  },
  {
   "cell_type": "code",
   "execution_count": 3,
   "metadata": {
    "collapsed": true
   },
   "outputs": [],
   "source": [
    "#%%bash\n",
    "#source activate deepcrap\n",
    "#samtools view /scratch/groups/astraigh/minion_seq/guppy_basecalling/DiMeLo_cen_enrich_trial1/bar17.2/bar17_guppy_merge.bam | head"
   ]
  },
  {
   "cell_type": "code",
   "execution_count": 2,
   "metadata": {
    "collapsed": true
   },
   "outputs": [],
   "source": [
    "def extract_Mm_Aa(Mm, Ml, thr):\n",
    "    \n",
    "       \n",
    "    first=Mm.split(';')[0]\n",
    "    if 'C+m' in first:\n",
    "        A_n=len(Mm.split(';')[1].split(','))-1\n",
    "        Mm_Aa = Mm.split(';')[1].split(',')[1:]\n",
    "        Ml_Aa = np.array(Ml[0-A_n:],dtype=int)\n",
    "\n",
    "    elif 'A+a' in first:\n",
    "        A_n=len(Mm.split(';')[0].split(','))-1        \n",
    "        Mm_Aa = Mm.split(';')[0].split(',')[1:]\n",
    "        Ml_Aa=np.array(Ml[0:A_n],dtype=int)\n",
    "    \n",
    "    Mm_Aa_array = np.array(np.array(Mm_Aa), dtype=int)\n",
    "    A_n_skips = np.sum(Mm_Aa_array)\n",
    "    A_n_actual = A_n_skips + A_n\n",
    "    \n",
    "    frac_N_mods = {n:[] for n in thr}\n",
    "    for perc in thr:\n",
    "        thr256 = perc/100*256\n",
    "        if A_n > 0:\n",
    "            frac_N_mods[perc]=np.sum(Ml_Aa>=thr256)/A_n_actual\n",
    "        else:\n",
    "            frac_N_mods[perc]=0\n",
    "    \n",
    "    return Mm_Aa, Ml_Aa, frac_N_mods, A_n_actual"
   ]
  },
  {
   "cell_type": "code",
   "execution_count": 3,
   "metadata": {
    "collapsed": true
   },
   "outputs": [],
   "source": [
    "def parse_bam_Guppy_Nmods(filename_guppy, thr = [80,90,95]):\n",
    "    outfilename = filename_guppy.replace('.bam','.An_Nmods.txt')\n",
    "    with open(outfilename, \"w\") as f:\n",
    "        N_mod_allthr_header = ''\n",
    "        for i in thr:\n",
    "            N_mod_allthr_header += 'frac_over_' + (str(i)) + '%'\n",
    "            N_mod_allthr_header += '\\t'\n",
    "        outstring = 'Read_id' + '\\t' + 'A_count' + '\\t' + N_mod_allthr_header[0:-1] + '\\n'\n",
    "        f.write(outstring)\n",
    "\n",
    "        reader = pysam.AlignmentFile(filename_guppy, check_sq=False)\n",
    "        bamiter= reader.fetch(until_eof=True)\n",
    "    \n",
    "        while True:\n",
    "            try:\n",
    "                r=bamiter.__next__()\n",
    "                Mm=(r.get_tag('Mm') if r.has_tag('Mm') else None)\n",
    "                Ml=(r.get_tag('Ml') if r.has_tag('Ml') else None)\n",
    "                readid=r.query_name\n",
    "                #pos=r.reference_start\n",
    "                #pos in bam is 1 indexed, python is 0 indexed\n",
    "                #pos=pos-1\n",
    "                #length=r.query_length\n",
    "                #rev_strand=r.is_reverse\n",
    "\n",
    "                if not Mm is None:\n",
    "                    Mm_Aa, Ml_Aa, frac_N_mods, A_n  = extract_Mm_Aa(Mm, Ml, thr)\n",
    "                    frac_N_mods_allthr_str = ''\n",
    "                    for perc in thr:\n",
    "                        frac_N_mods_allthr_str += str(frac_N_mods[perc])\n",
    "                        frac_N_mods_allthr_str += '\\t'\n",
    "                    outstring = str(readid) + '\\t' + str(A_n) + '\\t' + frac_N_mods_allthr_str[0:-1] + '\\n'\n",
    "                    f.write(outstring)\n",
    "\n",
    "            except StopIteration:\n",
    "                reader.close()\n",
    "                f.close()\n",
    "                return"
   ]
  },
  {
   "cell_type": "code",
   "execution_count": 4,
   "metadata": {},
   "outputs": [
    {
     "name": "stdout",
     "output_type": "stream",
     "text": [
      "Finished parsing barcode 17 in 47.830650091171265 seconds\n",
      "Finished parsing barcode 18 in 43.83332324028015 seconds\n",
      "Finished parsing barcode 19 in 42.03563356399536 seconds\n",
      "Finished parsing barcode 20 in 40.496354818344116 seconds\n"
     ]
    }
   ],
   "source": [
    "filename_guppy = {}\n",
    "outfilename_guppy_MlAa = {}\n",
    "for i in [17,18,19,20]:\n",
    "    filename_guppy[i] = '/scratch/groups/astraigh/minion_seq/guppy_basecalling/DiMeLo_cen_enrich_trial1/bar'+str(i)+'.2/bar'+str(i)+'_guppy_merge.bam' \n",
    "    \n",
    "    ##RUN this part only if the files don't exist already\n",
    "\n",
    "    starttime = time.time()\n",
    "    parse_bam_Guppy_Nmods(filename_guppy[i])\n",
    "    print('Finished parsing barcode ' + str(i) + ' in ' + str(time.time()-starttime) + ' seconds')"
   ]
  },
  {
   "cell_type": "code",
   "execution_count": 5,
   "metadata": {},
   "outputs": [
    {
     "name": "stdout",
     "output_type": "stream",
     "text": [
      "Finished parsing barcode 17 in 24.604758739471436 seconds\n",
      "Finished parsing barcode 18 in 26.205589294433594 seconds\n",
      "Finished parsing barcode 19 in 24.40490698814392 seconds\n",
      "Finished parsing barcode 20 in 23.088953495025635 seconds\n"
     ]
    }
   ],
   "source": [
    "filename_guppy_CA_enrich = {}\n",
    "outfilename_guppy_MlAa_CA_enrich = {}\n",
    "for i in [17,18,19,20]:\n",
    "    filename_guppy_CA_enrich[i] = '/scratch/groups/astraigh/minion_seq/guppy_basecalling/DiMeLo_cen_enrich_trial1/bar'+str(i)+'.2/bar'+str(i)+'_guppy_merge.extract_CA.k21.ci100.bam'\n",
    "    \n",
    "    ##RUN this part only if the files don't exist already\n",
    "\n",
    "    starttime = time.time()\n",
    "    parse_bam_Guppy_Nmods(filename_guppy_CA_enrich[i])\n",
    "    print('Finished parsing barcode ' + str(i) + ' in ' + str(time.time()-starttime) + ' seconds')"
   ]
  },
  {
   "cell_type": "code",
   "execution_count": 6,
   "metadata": {},
   "outputs": [
    {
     "name": "stdout",
     "output_type": "stream",
     "text": [
      "Finished parsing barcode 17 in 23.27612614631653 seconds\n",
      "Finished parsing barcode 18 in 17.28199076652527 seconds\n",
      "Finished parsing barcode 19 in 17.281346559524536 seconds\n",
      "Finished parsing barcode 20 in 17.384405612945557 seconds\n"
     ]
    }
   ],
   "source": [
    "filename_guppy_rest = {}\n",
    "for i in [17,18,19,20]:\n",
    "    filename_guppy_rest[i] = '/scratch/groups/astraigh/minion_seq/guppy_basecalling/DiMeLo_cen_enrich_trial1/bar'+str(i)+'.2/bar'+str(i)+'_guppy_merge.NOTextract_CA.k21.ci100.bam'\n",
    "    \n",
    "    ##RUN this part only if the files don't exist already\n",
    "\n",
    "    starttime = time.time()\n",
    "    parse_bam_Guppy_Nmods(filename_guppy_rest[i])\n",
    "    print('Finished parsing barcode ' + str(i) + ' in ' + str(time.time()-starttime) + ' seconds')"
   ]
  },
  {
   "cell_type": "code",
   "execution_count": 7,
   "metadata": {
    "collapsed": true
   },
   "outputs": [],
   "source": [
    "parsed_Nmods_df = {}\n",
    "for i in [17,18,19,20]:\n",
    "    parsed_Nmods_df[i] = pd.read_csv(filename_guppy[i].replace('.bam','.An_Nmods.txt'), sep='\\t')"
   ]
  },
  {
   "cell_type": "code",
   "execution_count": 8,
   "metadata": {
    "collapsed": true
   },
   "outputs": [],
   "source": [
    "parsed_Nmods_df_CA_enrich = {}\n",
    "for i in [17,18,19,20]:\n",
    "    parsed_Nmods_df_CA_enrich[i] = pd.read_csv(filename_guppy_CA_enrich[i].replace('.bam','.An_Nmods.txt'), sep='\\t')"
   ]
  },
  {
   "cell_type": "code",
   "execution_count": 9,
   "metadata": {
    "collapsed": true
   },
   "outputs": [],
   "source": [
    "parsed_Nmods_df_rest = {}\n",
    "for i in [17,18,19,20]:\n",
    "    parsed_Nmods_df_rest[i] = pd.read_csv(filename_guppy_rest[i].replace('.bam','.An_Nmods.txt'), sep='\\t')"
   ]
  },
  {
   "cell_type": "code",
   "execution_count": 10,
   "metadata": {},
   "outputs": [
    {
     "data": {
      "text/html": [
       "<div>\n",
       "<style scoped>\n",
       "    .dataframe tbody tr th:only-of-type {\n",
       "        vertical-align: middle;\n",
       "    }\n",
       "\n",
       "    .dataframe tbody tr th {\n",
       "        vertical-align: top;\n",
       "    }\n",
       "\n",
       "    .dataframe thead th {\n",
       "        text-align: right;\n",
       "    }\n",
       "</style>\n",
       "<table border=\"1\" class=\"dataframe\">\n",
       "  <thead>\n",
       "    <tr style=\"text-align: right;\">\n",
       "      <th></th>\n",
       "      <th>Read_id</th>\n",
       "      <th>A_count</th>\n",
       "      <th>frac_over_10%</th>\n",
       "      <th>frac_over_80%</th>\n",
       "      <th>frac_over_90%</th>\n",
       "      <th>frac_over_95%</th>\n",
       "    </tr>\n",
       "  </thead>\n",
       "  <tbody>\n",
       "    <tr>\n",
       "      <th>0</th>\n",
       "      <td>02f6cc44-d077-45ff-815f-afbc3d5801a7</td>\n",
       "      <td>1810</td>\n",
       "      <td>0.149171</td>\n",
       "      <td>0.000000</td>\n",
       "      <td>0.000000</td>\n",
       "      <td>0.000000</td>\n",
       "    </tr>\n",
       "    <tr>\n",
       "      <th>1</th>\n",
       "      <td>02f30dc0-03be-4fa6-8f56-1274cc0bf350</td>\n",
       "      <td>2061</td>\n",
       "      <td>0.524017</td>\n",
       "      <td>0.115963</td>\n",
       "      <td>0.046579</td>\n",
       "      <td>0.016497</td>\n",
       "    </tr>\n",
       "    <tr>\n",
       "      <th>2</th>\n",
       "      <td>02fb4266-e491-4e05-bd3e-ab098d4b59ef</td>\n",
       "      <td>474</td>\n",
       "      <td>0.016878</td>\n",
       "      <td>0.000000</td>\n",
       "      <td>0.000000</td>\n",
       "      <td>0.000000</td>\n",
       "    </tr>\n",
       "    <tr>\n",
       "      <th>3</th>\n",
       "      <td>0306c082-9006-4999-a42a-78a260ee7caf</td>\n",
       "      <td>0</td>\n",
       "      <td>0.000000</td>\n",
       "      <td>0.000000</td>\n",
       "      <td>0.000000</td>\n",
       "      <td>0.000000</td>\n",
       "    </tr>\n",
       "    <tr>\n",
       "      <th>4</th>\n",
       "      <td>02fadf9c-16ef-4881-bff3-81f4777062f0</td>\n",
       "      <td>68</td>\n",
       "      <td>0.000000</td>\n",
       "      <td>0.000000</td>\n",
       "      <td>0.000000</td>\n",
       "      <td>0.000000</td>\n",
       "    </tr>\n",
       "    <tr>\n",
       "      <th>...</th>\n",
       "      <td>...</td>\n",
       "      <td>...</td>\n",
       "      <td>...</td>\n",
       "      <td>...</td>\n",
       "      <td>...</td>\n",
       "      <td>...</td>\n",
       "    </tr>\n",
       "    <tr>\n",
       "      <th>230211</th>\n",
       "      <td>29548abd-38fd-4b3b-94f3-c5ee423bcc81</td>\n",
       "      <td>2889</td>\n",
       "      <td>0.042229</td>\n",
       "      <td>0.003808</td>\n",
       "      <td>0.001385</td>\n",
       "      <td>0.000000</td>\n",
       "    </tr>\n",
       "    <tr>\n",
       "      <th>230212</th>\n",
       "      <td>2950a028-3e8a-4992-9ba1-e6bab7e05458</td>\n",
       "      <td>2665</td>\n",
       "      <td>0.003002</td>\n",
       "      <td>0.000000</td>\n",
       "      <td>0.000000</td>\n",
       "      <td>0.000000</td>\n",
       "    </tr>\n",
       "    <tr>\n",
       "      <th>230213</th>\n",
       "      <td>29519436-c22f-42b8-a28e-79f45a017d53</td>\n",
       "      <td>2090</td>\n",
       "      <td>0.001435</td>\n",
       "      <td>0.000000</td>\n",
       "      <td>0.000000</td>\n",
       "      <td>0.000000</td>\n",
       "    </tr>\n",
       "    <tr>\n",
       "      <th>230214</th>\n",
       "      <td>295e90be-2e94-4f5c-9b4b-4c969a74182c</td>\n",
       "      <td>5666</td>\n",
       "      <td>0.002647</td>\n",
       "      <td>0.000176</td>\n",
       "      <td>0.000000</td>\n",
       "      <td>0.000000</td>\n",
       "    </tr>\n",
       "    <tr>\n",
       "      <th>230215</th>\n",
       "      <td>29711ce2-8f60-46f6-993e-b7072a7d67df</td>\n",
       "      <td>1056</td>\n",
       "      <td>0.005682</td>\n",
       "      <td>0.001894</td>\n",
       "      <td>0.001894</td>\n",
       "      <td>0.000000</td>\n",
       "    </tr>\n",
       "  </tbody>\n",
       "</table>\n",
       "<p>230216 rows × 6 columns</p>\n",
       "</div>"
      ],
      "text/plain": [
       "                                     Read_id  A_count  frac_over_10%  \\\n",
       "0       02f6cc44-d077-45ff-815f-afbc3d5801a7     1810       0.149171   \n",
       "1       02f30dc0-03be-4fa6-8f56-1274cc0bf350     2061       0.524017   \n",
       "2       02fb4266-e491-4e05-bd3e-ab098d4b59ef      474       0.016878   \n",
       "3       0306c082-9006-4999-a42a-78a260ee7caf        0       0.000000   \n",
       "4       02fadf9c-16ef-4881-bff3-81f4777062f0       68       0.000000   \n",
       "...                                      ...      ...            ...   \n",
       "230211  29548abd-38fd-4b3b-94f3-c5ee423bcc81     2889       0.042229   \n",
       "230212  2950a028-3e8a-4992-9ba1-e6bab7e05458     2665       0.003002   \n",
       "230213  29519436-c22f-42b8-a28e-79f45a017d53     2090       0.001435   \n",
       "230214  295e90be-2e94-4f5c-9b4b-4c969a74182c     5666       0.002647   \n",
       "230215  29711ce2-8f60-46f6-993e-b7072a7d67df     1056       0.005682   \n",
       "\n",
       "        frac_over_80%  frac_over_90%  frac_over_95%  \n",
       "0            0.000000       0.000000       0.000000  \n",
       "1            0.115963       0.046579       0.016497  \n",
       "2            0.000000       0.000000       0.000000  \n",
       "3            0.000000       0.000000       0.000000  \n",
       "4            0.000000       0.000000       0.000000  \n",
       "...               ...            ...            ...  \n",
       "230211       0.003808       0.001385       0.000000  \n",
       "230212       0.000000       0.000000       0.000000  \n",
       "230213       0.000000       0.000000       0.000000  \n",
       "230214       0.000176       0.000000       0.000000  \n",
       "230215       0.001894       0.001894       0.000000  \n",
       "\n",
       "[230216 rows x 6 columns]"
      ]
     },
     "execution_count": 10,
     "metadata": {},
     "output_type": "execute_result"
    }
   ],
   "source": [
    "parsed_Nmods_df[17]"
   ]
  },
  {
   "cell_type": "code",
   "execution_count": 11,
   "metadata": {
    "scrolled": true
   },
   "outputs": [
    {
     "data": {
      "image/png": "[encoded data removed]",
      "text/plain": [
       "<Figure size 432x288 with 1 Axes>"
      ]
     },
     "metadata": {},
     "output_type": "display_data"
    }
   ],
   "source": [
    "for i in [17,18,19,20]:\n",
    "    plt.hist(parsed_Nmods_df[i]['frac_over_95%'], density = True, bins=2000, alpha=0.7 , label = 'bar' + str(i))\n",
    "plt.ylim(0,20)\n",
    "plt.xlim(0,0.05)\n",
    "plt.xlabel('(m6A>95%)/A', fontsize = 14)\n",
    "plt.ylabel('frequency', fontsize = 14)\n",
    "plt.title('All reads (Guppy)', fontsize = 16)\n",
    "plt.legend(fontsize = 16)\n",
    "plt.show()"
   ]
  },
  {
   "cell_type": "code",
   "execution_count": 12,
   "metadata": {},
   "outputs": [
    {
     "data": {
      "image/png": "[encoded data removed]",
      "text/plain": [
       "<Figure size 432x288 with 1 Axes>"
      ]
     },
     "metadata": {},
     "output_type": "display_data"
    }
   ],
   "source": [
    "for i in [17,18,19,20]:\n",
    "    plt.hist(parsed_Nmods_df[i]['frac_over_90%'], density = True, bins=2000, alpha=0.7 , label = 'bar' + str(i))\n",
    "plt.ylim(0,20)\n",
    "plt.xlim(0,1)\n",
    "plt.xlabel('(m6A>90%)/A', fontsize = 14)\n",
    "plt.ylabel('frequency', fontsize = 14)\n",
    "plt.title('All reads (Guppy)', fontsize = 16)\n",
    "plt.legend(fontsize = 16)\n",
    "plt.show()"
   ]
  },
  {
   "cell_type": "code",
   "execution_count": 13,
   "metadata": {
    "scrolled": false
   },
   "outputs": [
    {
     "data": {
      "image/png": "[encoded data removed]",
      "text/plain": [
       "<Figure size 432x288 with 1 Axes>"
      ]
     },
     "metadata": {},
     "output_type": "display_data"
    }
   ],
   "source": [
    "for i in [17,18,19,20]:\n",
    "    plt.hist(parsed_Nmods_df[i]['frac_over_80%'], density = True, bins=2000, alpha=0.7 , label = 'bar' + str(i))\n",
    "plt.ylim(0,20)\n",
    "plt.xlim(0,0.1)\n",
    "plt.xlabel('(m6A>80%)/A', fontsize = 14)\n",
    "plt.ylabel('frequency', fontsize = 14)\n",
    "plt.title('All reads (Guppy)', fontsize = 16)\n",
    "plt.legend(fontsize = 16)\n",
    "plt.show()"
   ]
  },
  {
   "cell_type": "code",
   "execution_count": 16,
   "metadata": {
    "scrolled": true
   },
   "outputs": [
    {
     "data": {
      "image/png": "[encoded data removed]",
      "text/plain": [
       "<Figure size 432x288 with 1 Axes>"
      ]
     },
     "metadata": {},
     "output_type": "display_data"
    }
   ],
   "source": [
    "for i in [17,18,19,20]:\n",
    "    plt.hist(parsed_Nmods_df_CA_enrich[i]['frac_over_95%'], density = True, bins=2000, alpha=0.7 , label = 'bar' + str(i))\n",
    "plt.ylim(0,20)\n",
    "plt.xlim(0,0.05)\n",
    "plt.xlabel('(m6A>95%)/A', fontsize = 14)\n",
    "plt.ylabel('frequency', fontsize = 14)\n",
    "plt.title('CA kmer reads (Guppy)', fontsize = 16)\n",
    "plt.legend(fontsize = 16)\n",
    "plt.show()"
   ]
  },
  {
   "cell_type": "code",
   "execution_count": 17,
   "metadata": {},
   "outputs": [
    {
     "data": {
      "image/png": "[encoded data removed]",
      "text/plain": [
       "<Figure size 432x288 with 1 Axes>"
      ]
     },
     "metadata": {},
     "output_type": "display_data"
    }
   ],
   "source": [
    "for i in [17,18,19,20]:\n",
    "    plt.hist(parsed_Nmods_df_CA_enrich[i]['frac_over_90%'], density = True, bins=2000, alpha=0.7 , label = 'bar' + str(i))\n",
    "plt.ylim(0,20)\n",
    "plt.xlim(0,0.05)\n",
    "plt.xlabel('(m6A>90%)/A', fontsize = 14)\n",
    "plt.ylabel('frequency', fontsize = 14)\n",
    "plt.title('CA kmer reads (Guppy)', fontsize = 16)\n",
    "plt.legend(fontsize = 16)\n",
    "plt.show()"
   ]
  },
  {
   "cell_type": "code",
   "execution_count": 18,
   "metadata": {
    "scrolled": false
   },
   "outputs": [
    {
     "data": {
      "image/png": "[encoded data removed]",
      "text/plain": [
       "<Figure size 432x288 with 1 Axes>"
      ]
     },
     "metadata": {},
     "output_type": "display_data"
    }
   ],
   "source": [
    "for i in [17,18,19,20]:\n",
    "    plt.hist(parsed_Nmods_df_CA_enrich[i]['frac_over_80%'], density = True, bins=2000, alpha=0.7 , label = 'bar' + str(i))\n",
    "plt.ylim(0,20)\n",
    "plt.xlim(0,0.05)\n",
    "plt.xlabel('(m6A>80%)/A', fontsize = 14)\n",
    "plt.ylabel('frequency', fontsize = 14)\n",
    "plt.title('CA kmer reads (Guppy)', fontsize = 16)\n",
    "plt.legend(fontsize = 16)\n",
    "plt.show()"
   ]
  },
  {
   "cell_type": "code",
   "execution_count": 19,
   "metadata": {
    "scrolled": true
   },
   "outputs": [
    {
     "data": {
      "image/png": "[encoded data removed]",
      "text/plain": [
       "<Figure size 432x288 with 1 Axes>"
      ]
     },
     "metadata": {},
     "output_type": "display_data"
    }
   ],
   "source": [
    "for i in [17,18,19,20]:\n",
    "    plt.hist(parsed_Nmods_df_rest[i]['frac_over_95%'], density = True, bins=2000, alpha=0.7 , label = 'bar' + str(i))\n",
    "plt.ylim(0,20)\n",
    "plt.xlim(0,0.05)\n",
    "plt.xlabel('(m6A>95%)/A', fontsize = 14)\n",
    "plt.ylabel('frequency', fontsize = 14)\n",
    "plt.title('Non-CA reads (Guppy)', fontsize = 16)\n",
    "plt.legend(fontsize = 16)\n",
    "plt.show()"
   ]
  },
  {
   "cell_type": "code",
   "execution_count": 20,
   "metadata": {},
   "outputs": [
    {
     "data": {
      "image/png": "[encoded data removed]",
      "text/plain": [
       "<Figure size 432x288 with 1 Axes>"
      ]
     },
     "metadata": {},
     "output_type": "display_data"
    }
   ],
   "source": [
    "for i in [17,18,19,20]:\n",
    "    plt.hist(parsed_Nmods_df_rest[i]['frac_over_90%'], density = True, bins=2000, alpha=0.7 , label = 'bar' + str(i))\n",
    "plt.ylim(0,20)\n",
    "plt.xlim(0,0.05)\n",
    "plt.xlabel('(m6A>90%)/A', fontsize = 14)\n",
    "plt.ylabel('frequency', fontsize = 14)\n",
    "plt.title('Non-CA reads (Guppy)', fontsize = 16)\n",
    "plt.legend(fontsize = 16)\n",
    "plt.show()"
   ]
  },
  {
   "cell_type": "code",
   "execution_count": 21,
   "metadata": {
    "scrolled": false
   },
   "outputs": [
    {
     "data": {
      "image/png": "[encoded data removed]",
      "text/plain": [
       "<Figure size 432x288 with 1 Axes>"
      ]
     },
     "metadata": {},
     "output_type": "display_data"
    }
   ],
   "source": [
    "for i in [17,18,19,20]:\n",
    "    plt.hist(parsed_Nmods_df_rest[i]['frac_over_80%'], density = True, bins=2000, alpha=0.7 , label = 'bar' + str(i))\n",
    "plt.ylim(0,20)\n",
    "plt.xlim(0,0.05)\n",
    "plt.xlabel('(m6A>80%)/A', fontsize = 14)\n",
    "plt.ylabel('frequency', fontsize = 14)\n",
    "plt.title('Non-CA reads (Guppy)', fontsize = 16)\n",
    "plt.legend(fontsize = 16)\n",
    "plt.show()"
   ]
  },
  {
   "cell_type": "code",
   "execution_count": 14,
   "metadata": {
    "collapsed": true
   },
   "outputs": [],
   "source": [
    "for i in [17,18,19,20]:\n",
    "    parsed_Nmods_df[i]['Nmods_95'] = parsed_Nmods_df[i]['A_count']*parsed_Nmods_df[i]['frac_over_95%']\n",
    "    parsed_Nmods_df[i]['Nmods_90'] = parsed_Nmods_df[i]['A_count']*parsed_Nmods_df[i]['frac_over_90%']\n",
    "    parsed_Nmods_df[i]['Nmods_80'] = parsed_Nmods_df[i]['A_count']*parsed_Nmods_df[i]['frac_over_80%']\n",
    "    "
   ]
  },
  {
   "cell_type": "code",
   "execution_count": 15,
   "metadata": {
    "collapsed": true
   },
   "outputs": [],
   "source": [
    "for i in [17,18,19,20]:\n",
    "    parsed_Nmods_df_CA_enrich[i]['Nmods_95'] = parsed_Nmods_df_CA_enrich[i]['A_count']*parsed_Nmods_df_CA_enrich[i]['frac_over_95%']\n",
    "    parsed_Nmods_df_CA_enrich[i]['Nmods_90'] = parsed_Nmods_df_CA_enrich[i]['A_count']*parsed_Nmods_df_CA_enrich[i]['frac_over_90%']\n",
    "    parsed_Nmods_df_CA_enrich[i]['Nmods_80'] = parsed_Nmods_df_CA_enrich[i]['A_count']*parsed_Nmods_df_CA_enrich[i]['frac_over_80%']\n"
   ]
  },
  {
   "cell_type": "code",
   "execution_count": 16,
   "metadata": {
    "collapsed": true
   },
   "outputs": [],
   "source": [
    "for i in [17,18,19,20]:\n",
    "    parsed_Nmods_df_rest[i]['Nmods_95'] = parsed_Nmods_df_rest[i]['A_count']*parsed_Nmods_df_rest[i]['frac_over_95%']\n",
    "    parsed_Nmods_df_rest[i]['Nmods_90'] = parsed_Nmods_df_rest[i]['A_count']*parsed_Nmods_df_rest[i]['frac_over_90%']\n",
    "    parsed_Nmods_df_rest[i]['Nmods_80'] = parsed_Nmods_df_rest[i]['A_count']*parsed_Nmods_df_rest[i]['frac_over_80%']\n",
    "    "
   ]
  },
  {
   "cell_type": "code",
   "execution_count": 25,
   "metadata": {},
   "outputs": [
    {
     "data": {
      "text/html": [
       "<div>\n",
       "<style scoped>\n",
       "    .dataframe tbody tr th:only-of-type {\n",
       "        vertical-align: middle;\n",
       "    }\n",
       "\n",
       "    .dataframe tbody tr th {\n",
       "        vertical-align: top;\n",
       "    }\n",
       "\n",
       "    .dataframe thead th {\n",
       "        text-align: right;\n",
       "    }\n",
       "</style>\n",
       "<table border=\"1\" class=\"dataframe\">\n",
       "  <thead>\n",
       "    <tr style=\"text-align: right;\">\n",
       "      <th></th>\n",
       "      <th>Read_id</th>\n",
       "      <th>A_count</th>\n",
       "      <th>frac_over_80%</th>\n",
       "      <th>frac_over_90%</th>\n",
       "      <th>frac_over_95%</th>\n",
       "      <th>Nmods_95</th>\n",
       "      <th>Nmods_90</th>\n",
       "      <th>Nmods_80</th>\n",
       "    </tr>\n",
       "  </thead>\n",
       "  <tbody>\n",
       "    <tr>\n",
       "      <th>0</th>\n",
       "      <td>02f6cc44-d077-45ff-815f-afbc3d5801a7</td>\n",
       "      <td>1810</td>\n",
       "      <td>0.000000</td>\n",
       "      <td>0.000000</td>\n",
       "      <td>0.000000</td>\n",
       "      <td>0.0</td>\n",
       "      <td>0.0</td>\n",
       "      <td>0.0</td>\n",
       "    </tr>\n",
       "    <tr>\n",
       "      <th>1</th>\n",
       "      <td>02f30dc0-03be-4fa6-8f56-1274cc0bf350</td>\n",
       "      <td>2061</td>\n",
       "      <td>0.115963</td>\n",
       "      <td>0.046579</td>\n",
       "      <td>0.016497</td>\n",
       "      <td>34.0</td>\n",
       "      <td>96.0</td>\n",
       "      <td>239.0</td>\n",
       "    </tr>\n",
       "    <tr>\n",
       "      <th>2</th>\n",
       "      <td>02fb4266-e491-4e05-bd3e-ab098d4b59ef</td>\n",
       "      <td>474</td>\n",
       "      <td>0.000000</td>\n",
       "      <td>0.000000</td>\n",
       "      <td>0.000000</td>\n",
       "      <td>0.0</td>\n",
       "      <td>0.0</td>\n",
       "      <td>0.0</td>\n",
       "    </tr>\n",
       "    <tr>\n",
       "      <th>3</th>\n",
       "      <td>0306c082-9006-4999-a42a-78a260ee7caf</td>\n",
       "      <td>0</td>\n",
       "      <td>0.000000</td>\n",
       "      <td>0.000000</td>\n",
       "      <td>0.000000</td>\n",
       "      <td>0.0</td>\n",
       "      <td>0.0</td>\n",
       "      <td>0.0</td>\n",
       "    </tr>\n",
       "    <tr>\n",
       "      <th>4</th>\n",
       "      <td>02fadf9c-16ef-4881-bff3-81f4777062f0</td>\n",
       "      <td>68</td>\n",
       "      <td>0.000000</td>\n",
       "      <td>0.000000</td>\n",
       "      <td>0.000000</td>\n",
       "      <td>0.0</td>\n",
       "      <td>0.0</td>\n",
       "      <td>0.0</td>\n",
       "    </tr>\n",
       "    <tr>\n",
       "      <th>...</th>\n",
       "      <td>...</td>\n",
       "      <td>...</td>\n",
       "      <td>...</td>\n",
       "      <td>...</td>\n",
       "      <td>...</td>\n",
       "      <td>...</td>\n",
       "      <td>...</td>\n",
       "      <td>...</td>\n",
       "    </tr>\n",
       "    <tr>\n",
       "      <th>230211</th>\n",
       "      <td>29548abd-38fd-4b3b-94f3-c5ee423bcc81</td>\n",
       "      <td>2889</td>\n",
       "      <td>0.003808</td>\n",
       "      <td>0.001385</td>\n",
       "      <td>0.000000</td>\n",
       "      <td>0.0</td>\n",
       "      <td>4.0</td>\n",
       "      <td>11.0</td>\n",
       "    </tr>\n",
       "    <tr>\n",
       "      <th>230212</th>\n",
       "      <td>2950a028-3e8a-4992-9ba1-e6bab7e05458</td>\n",
       "      <td>2665</td>\n",
       "      <td>0.000000</td>\n",
       "      <td>0.000000</td>\n",
       "      <td>0.000000</td>\n",
       "      <td>0.0</td>\n",
       "      <td>0.0</td>\n",
       "      <td>0.0</td>\n",
       "    </tr>\n",
       "    <tr>\n",
       "      <th>230213</th>\n",
       "      <td>29519436-c22f-42b8-a28e-79f45a017d53</td>\n",
       "      <td>2090</td>\n",
       "      <td>0.000000</td>\n",
       "      <td>0.000000</td>\n",
       "      <td>0.000000</td>\n",
       "      <td>0.0</td>\n",
       "      <td>0.0</td>\n",
       "      <td>0.0</td>\n",
       "    </tr>\n",
       "    <tr>\n",
       "      <th>230214</th>\n",
       "      <td>295e90be-2e94-4f5c-9b4b-4c969a74182c</td>\n",
       "      <td>5666</td>\n",
       "      <td>0.000176</td>\n",
       "      <td>0.000000</td>\n",
       "      <td>0.000000</td>\n",
       "      <td>0.0</td>\n",
       "      <td>0.0</td>\n",
       "      <td>1.0</td>\n",
       "    </tr>\n",
       "    <tr>\n",
       "      <th>230215</th>\n",
       "      <td>29711ce2-8f60-46f6-993e-b7072a7d67df</td>\n",
       "      <td>1056</td>\n",
       "      <td>0.001894</td>\n",
       "      <td>0.001894</td>\n",
       "      <td>0.000000</td>\n",
       "      <td>0.0</td>\n",
       "      <td>2.0</td>\n",
       "      <td>2.0</td>\n",
       "    </tr>\n",
       "  </tbody>\n",
       "</table>\n",
       "<p>230216 rows × 8 columns</p>\n",
       "</div>"
      ],
      "text/plain": [
       "                                     Read_id  A_count  frac_over_80%  \\\n",
       "0       02f6cc44-d077-45ff-815f-afbc3d5801a7     1810       0.000000   \n",
       "1       02f30dc0-03be-4fa6-8f56-1274cc0bf350     2061       0.115963   \n",
       "2       02fb4266-e491-4e05-bd3e-ab098d4b59ef      474       0.000000   \n",
       "3       0306c082-9006-4999-a42a-78a260ee7caf        0       0.000000   \n",
       "4       02fadf9c-16ef-4881-bff3-81f4777062f0       68       0.000000   \n",
       "...                                      ...      ...            ...   \n",
       "230211  29548abd-38fd-4b3b-94f3-c5ee423bcc81     2889       0.003808   \n",
       "230212  2950a028-3e8a-4992-9ba1-e6bab7e05458     2665       0.000000   \n",
       "230213  29519436-c22f-42b8-a28e-79f45a017d53     2090       0.000000   \n",
       "230214  295e90be-2e94-4f5c-9b4b-4c969a74182c     5666       0.000176   \n",
       "230215  29711ce2-8f60-46f6-993e-b7072a7d67df     1056       0.001894   \n",
       "\n",
       "        frac_over_90%  frac_over_95%  Nmods_95  Nmods_90  Nmods_80  \n",
       "0            0.000000       0.000000       0.0       0.0       0.0  \n",
       "1            0.046579       0.016497      34.0      96.0     239.0  \n",
       "2            0.000000       0.000000       0.0       0.0       0.0  \n",
       "3            0.000000       0.000000       0.0       0.0       0.0  \n",
       "4            0.000000       0.000000       0.0       0.0       0.0  \n",
       "...               ...            ...       ...       ...       ...  \n",
       "230211       0.001385       0.000000       0.0       4.0      11.0  \n",
       "230212       0.000000       0.000000       0.0       0.0       0.0  \n",
       "230213       0.000000       0.000000       0.0       0.0       0.0  \n",
       "230214       0.000000       0.000000       0.0       0.0       1.0  \n",
       "230215       0.001894       0.000000       0.0       2.0       2.0  \n",
       "\n",
       "[230216 rows x 8 columns]"
      ]
     },
     "execution_count": 25,
     "metadata": {},
     "output_type": "execute_result"
    }
   ],
   "source": [
    "parsed_Nmods_df[17]"
   ]
  },
  {
   "cell_type": "code",
   "execution_count": 17,
   "metadata": {
    "collapsed": true,
    "scrolled": true
   },
   "outputs": [],
   "source": [
    "total_perc_mod = {n:{} for n in [17,18,19,20]}\n",
    "for i in [17,18,19,20]:\n",
    "    for j in [80,90,95]:\n",
    "        Nmods_perc = 'Nmods_' + str(j)\n",
    "        total_perc_mod[i][j]=sum(parsed_Nmods_df[i][Nmods_perc])/sum(parsed_Nmods_df[i]['A_count'])*100"
   ]
  },
  {
   "cell_type": "code",
   "execution_count": 18,
   "metadata": {
    "collapsed": true
   },
   "outputs": [],
   "source": [
    "total_perc_mod_CA_enrich = {n:{} for n in [17,18,19,20]}\n",
    "for i in [17,18,19,20]:\n",
    "    for j in [80,90,95]:\n",
    "        Nmods_perc = 'Nmods_' + str(j)\n",
    "        total_perc_mod_CA_enrich[i][j]=sum(parsed_Nmods_df_CA_enrich[i][Nmods_perc])/sum(parsed_Nmods_df_CA_enrich[i]['A_count'])*100"
   ]
  },
  {
   "cell_type": "code",
   "execution_count": 19,
   "metadata": {
    "collapsed": true
   },
   "outputs": [],
   "source": [
    "total_perc_mod_rest = {n:{} for n in [17,18,19,20]}\n",
    "for i in [17,18,19,20]:\n",
    "    for j in [80,90,95]:\n",
    "        Nmods_perc = 'Nmods_' + str(j)\n",
    "        total_perc_mod_rest[i][j]=sum(parsed_Nmods_df_rest[i][Nmods_perc])/sum(parsed_Nmods_df_rest[i]['A_count'])*100"
   ]
  },
  {
   "cell_type": "code",
   "execution_count": 20,
   "metadata": {
    "collapsed": true
   },
   "outputs": [],
   "source": [
    "total_perc_mod_CA_overRest = {n:{} for n in [17,18,19,20]}\n",
    "for i in [17,18,19,20]:\n",
    "    for j in [80,90,95]:\n",
    "        Nmods_perc = 'Nmods_' + str(j)\n",
    "        total_perc_mod_CA_overRest[i][j]=total_perc_mod_CA_enrich[i][j]/total_perc_mod_rest[i][j]"
   ]
  },
  {
   "cell_type": "code",
   "execution_count": 21,
   "metadata": {},
   "outputs": [
    {
     "data": {
      "text/html": [
       "<div>\n",
       "<style scoped>\n",
       "    .dataframe tbody tr th:only-of-type {\n",
       "        vertical-align: middle;\n",
       "    }\n",
       "\n",
       "    .dataframe tbody tr th {\n",
       "        vertical-align: top;\n",
       "    }\n",
       "\n",
       "    .dataframe thead th {\n",
       "        text-align: right;\n",
       "    }\n",
       "</style>\n",
       "<table border=\"1\" class=\"dataframe\">\n",
       "  <thead>\n",
       "    <tr style=\"text-align: right;\">\n",
       "      <th></th>\n",
       "      <th>80</th>\n",
       "      <th>90</th>\n",
       "      <th>95</th>\n",
       "    </tr>\n",
       "  </thead>\n",
       "  <tbody>\n",
       "    <tr>\n",
       "      <th>17</th>\n",
       "      <td>0.448606</td>\n",
       "      <td>0.184959</td>\n",
       "      <td>0.072076</td>\n",
       "    </tr>\n",
       "    <tr>\n",
       "      <th>18</th>\n",
       "      <td>0.228695</td>\n",
       "      <td>0.093355</td>\n",
       "      <td>0.037991</td>\n",
       "    </tr>\n",
       "    <tr>\n",
       "      <th>19</th>\n",
       "      <td>0.091948</td>\n",
       "      <td>0.030206</td>\n",
       "      <td>0.011677</td>\n",
       "    </tr>\n",
       "    <tr>\n",
       "      <th>20</th>\n",
       "      <td>0.096434</td>\n",
       "      <td>0.031911</td>\n",
       "      <td>0.012424</td>\n",
       "    </tr>\n",
       "  </tbody>\n",
       "</table>\n",
       "</div>"
      ],
      "text/plain": [
       "          80        90        95\n",
       "17  0.448606  0.184959  0.072076\n",
       "18  0.228695  0.093355  0.037991\n",
       "19  0.091948  0.030206  0.011677\n",
       "20  0.096434  0.031911  0.012424"
      ]
     },
     "metadata": {},
     "output_type": "display_data"
    },
    {
     "name": "stdout",
     "output_type": "stream",
     "text": [
      "Total % m6A/A for all reads\n"
     ]
    }
   ],
   "source": [
    "display(pd.DataFrame.from_dict(total_perc_mod).T)\n",
    "print('Total % m6A/A for all reads')"
   ]
  },
  {
   "cell_type": "code",
   "execution_count": 22,
   "metadata": {
    "scrolled": true
   },
   "outputs": [
    {
     "data": {
      "text/html": [
       "<div>\n",
       "<style scoped>\n",
       "    .dataframe tbody tr th:only-of-type {\n",
       "        vertical-align: middle;\n",
       "    }\n",
       "\n",
       "    .dataframe tbody tr th {\n",
       "        vertical-align: top;\n",
       "    }\n",
       "\n",
       "    .dataframe thead th {\n",
       "        text-align: right;\n",
       "    }\n",
       "</style>\n",
       "<table border=\"1\" class=\"dataframe\">\n",
       "  <thead>\n",
       "    <tr style=\"text-align: right;\">\n",
       "      <th></th>\n",
       "      <th>80</th>\n",
       "      <th>90</th>\n",
       "      <th>95</th>\n",
       "    </tr>\n",
       "  </thead>\n",
       "  <tbody>\n",
       "    <tr>\n",
       "      <th>17</th>\n",
       "      <td>0.329448</td>\n",
       "      <td>0.130287</td>\n",
       "      <td>0.052007</td>\n",
       "    </tr>\n",
       "    <tr>\n",
       "      <th>18</th>\n",
       "      <td>0.296521</td>\n",
       "      <td>0.124664</td>\n",
       "      <td>0.051195</td>\n",
       "    </tr>\n",
       "    <tr>\n",
       "      <th>19</th>\n",
       "      <td>0.105598</td>\n",
       "      <td>0.036401</td>\n",
       "      <td>0.014385</td>\n",
       "    </tr>\n",
       "    <tr>\n",
       "      <th>20</th>\n",
       "      <td>0.112577</td>\n",
       "      <td>0.039105</td>\n",
       "      <td>0.015494</td>\n",
       "    </tr>\n",
       "  </tbody>\n",
       "</table>\n",
       "</div>"
      ],
      "text/plain": [
       "          80        90        95\n",
       "17  0.329448  0.130287  0.052007\n",
       "18  0.296521  0.124664  0.051195\n",
       "19  0.105598  0.036401  0.014385\n",
       "20  0.112577  0.039105  0.015494"
      ]
     },
     "metadata": {},
     "output_type": "display_data"
    },
    {
     "name": "stdout",
     "output_type": "stream",
     "text": [
      "Total % m6A/A for CA kmer reads\n"
     ]
    }
   ],
   "source": [
    "display(pd.DataFrame.from_dict(total_perc_mod_CA_enrich).T)\n",
    "print('Total % m6A/A for CA kmer reads')"
   ]
  },
  {
   "cell_type": "code",
   "execution_count": 23,
   "metadata": {
    "scrolled": true
   },
   "outputs": [
    {
     "data": {
      "text/html": [
       "<div>\n",
       "<style scoped>\n",
       "    .dataframe tbody tr th:only-of-type {\n",
       "        vertical-align: middle;\n",
       "    }\n",
       "\n",
       "    .dataframe tbody tr th {\n",
       "        vertical-align: top;\n",
       "    }\n",
       "\n",
       "    .dataframe thead th {\n",
       "        text-align: right;\n",
       "    }\n",
       "</style>\n",
       "<table border=\"1\" class=\"dataframe\">\n",
       "  <thead>\n",
       "    <tr style=\"text-align: right;\">\n",
       "      <th></th>\n",
       "      <th>80</th>\n",
       "      <th>90</th>\n",
       "      <th>95</th>\n",
       "    </tr>\n",
       "  </thead>\n",
       "  <tbody>\n",
       "    <tr>\n",
       "      <th>17</th>\n",
       "      <td>0.631670</td>\n",
       "      <td>0.269094</td>\n",
       "      <td>0.103681</td>\n",
       "    </tr>\n",
       "    <tr>\n",
       "      <th>18</th>\n",
       "      <td>0.069599</td>\n",
       "      <td>0.019915</td>\n",
       "      <td>0.007017</td>\n",
       "    </tr>\n",
       "    <tr>\n",
       "      <th>19</th>\n",
       "      <td>0.062647</td>\n",
       "      <td>0.016909</td>\n",
       "      <td>0.005864</td>\n",
       "    </tr>\n",
       "    <tr>\n",
       "      <th>20</th>\n",
       "      <td>0.061680</td>\n",
       "      <td>0.016423</td>\n",
       "      <td>0.005813</td>\n",
       "    </tr>\n",
       "  </tbody>\n",
       "</table>\n",
       "</div>"
      ],
      "text/plain": [
       "          80        90        95\n",
       "17  0.631670  0.269094  0.103681\n",
       "18  0.069599  0.019915  0.007017\n",
       "19  0.062647  0.016909  0.005864\n",
       "20  0.061680  0.016423  0.005813"
      ]
     },
     "metadata": {},
     "output_type": "display_data"
    },
    {
     "name": "stdout",
     "output_type": "stream",
     "text": [
      "Total % m6A/A for non-CA reads\n"
     ]
    }
   ],
   "source": [
    "display(pd.DataFrame.from_dict(total_perc_mod_rest).T)\n",
    "print('Total % m6A/A for non-CA reads')"
   ]
  },
  {
   "cell_type": "code",
   "execution_count": 24,
   "metadata": {
    "scrolled": true
   },
   "outputs": [
    {
     "data": {
      "text/html": [
       "<div>\n",
       "<style scoped>\n",
       "    .dataframe tbody tr th:only-of-type {\n",
       "        vertical-align: middle;\n",
       "    }\n",
       "\n",
       "    .dataframe tbody tr th {\n",
       "        vertical-align: top;\n",
       "    }\n",
       "\n",
       "    .dataframe thead th {\n",
       "        text-align: right;\n",
       "    }\n",
       "</style>\n",
       "<table border=\"1\" class=\"dataframe\">\n",
       "  <thead>\n",
       "    <tr style=\"text-align: right;\">\n",
       "      <th></th>\n",
       "      <th>80</th>\n",
       "      <th>90</th>\n",
       "      <th>95</th>\n",
       "    </tr>\n",
       "  </thead>\n",
       "  <tbody>\n",
       "    <tr>\n",
       "      <th>17</th>\n",
       "      <td>0.521551</td>\n",
       "      <td>0.484171</td>\n",
       "      <td>0.501602</td>\n",
       "    </tr>\n",
       "    <tr>\n",
       "      <th>18</th>\n",
       "      <td>4.260399</td>\n",
       "      <td>6.259801</td>\n",
       "      <td>7.296257</td>\n",
       "    </tr>\n",
       "    <tr>\n",
       "      <th>19</th>\n",
       "      <td>1.685609</td>\n",
       "      <td>2.152793</td>\n",
       "      <td>2.453193</td>\n",
       "    </tr>\n",
       "    <tr>\n",
       "      <th>20</th>\n",
       "      <td>1.825180</td>\n",
       "      <td>2.381149</td>\n",
       "      <td>2.665305</td>\n",
       "    </tr>\n",
       "  </tbody>\n",
       "</table>\n",
       "</div>"
      ],
      "text/plain": [
       "          80        90        95\n",
       "17  0.521551  0.484171  0.501602\n",
       "18  4.260399  6.259801  7.296257\n",
       "19  1.685609  2.152793  2.453193\n",
       "20  1.825180  2.381149  2.665305"
      ]
     },
     "metadata": {},
     "output_type": "display_data"
    },
    {
     "name": "stdout",
     "output_type": "stream",
     "text": [
      "Fold Enrichment CA/non-CA of m6A/A\n"
     ]
    }
   ],
   "source": [
    "display(pd.DataFrame.from_dict(total_perc_mod_CA_overRest).T)\n",
    "print('Fold Enrichment CA/non-CA of m6A/A')"
   ]
  },
  {
   "cell_type": "code",
   "execution_count": null,
   "metadata": {
    "collapsed": true
   },
   "outputs": [],
   "source": []
  }
 ],
 "metadata": {
  "kernelspec": {
   "display_name": "Python (charseq)",
   "language": "python",
   "name": "charseq"
  },
  "language_info": {
   "codemirror_mode": {
    "name": "ipython",
    "version": 3
   },
   "file_extension": ".py",
   "mimetype": "text/x-python",
   "name": "python",
   "nbconvert_exporter": "python",
   "pygments_lexer": "ipython3",
   "version": "3.6.10"
  }
 },
 "nbformat": 4,
 "nbformat_minor": 2
}
