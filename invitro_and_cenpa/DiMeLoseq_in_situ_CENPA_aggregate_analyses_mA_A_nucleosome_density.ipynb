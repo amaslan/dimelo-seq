###This file is obsolete and corresponds to the initial submission of the DiMeLoseq manuscript and BioRxiv preprint.###


{
 "cells": [
  {
   "cell_type": "code",
   "execution_count": 1,
   "metadata": {
    "collapsed": true
   },
   "outputs": [],
   "source": [
    "outfolder = <output_directory_path>"
   ]
  },
  {
   "cell_type": "code",
   "execution_count": 78,
   "metadata": {
    "collapsed": true
   },
   "outputs": [],
   "source": [
    "import sys\n",
    "import os\n",
    "import pandas as pd\n",
    "import matplotlib.pyplot as plt\n",
    "import numpy as np\n",
    "import seaborn as sns\n",
    "#from scipy.stats import kde\n",
    "%matplotlib inline\n",
    "from matplotlib import colors\n",
    "\n",
    "import math\n",
    "\n",
    "#import pysam\n",
    "#from Bio import SeqIO\n",
    "\n",
    "from scipy import sparse\n",
    "\n",
    "#from sklearn import cluster, datasets, mixture, decomposition\n",
    "#Setup the plotting context\n",
    "#sns.set(color_codes=True)\n",
    "#sns.set_context(\"talk\")\n",
    "#sns.set_style(\"darkgrid\")\n",
    "#import scipy.spatial.distance as ssd\n",
    "#from scipy.cluster import hierarchy\n",
    "#from sklearn.metrics.pairwise import pairwise_distances\n"
   ]
  },
  {
   "cell_type": "code",
   "execution_count": 3,
   "metadata": {
    "collapsed": true
   },
   "outputs": [],
   "source": [
    "## Enter the correct bed start, bed end and windowsize (same as in the *V5.py file) info below"
   ]
  },
  {
   "cell_type": "code",
   "execution_count": 4,
   "metadata": {
    "collapsed": true
   },
   "outputs": [],
   "source": [
    "Chromosome_Region = 'ChrX_CDR_300kb_5745_5775_v7'"
   ]
  },
  {
   "cell_type": "code",
   "execution_count": 5,
   "metadata": {
    "collapsed": true
   },
   "outputs": [],
   "source": [
    "bedstart = 57450000\n",
    "bedend = 57750000\n",
    "windowsize = 150000\n",
    "windowstart = (bedstart+bedend)/2-windowsize\n",
    "windowend = (bedstart+bedend)/2+windowsize"
   ]
  },
  {
   "cell_type": "code",
   "execution_count": 13,
   "metadata": {
    "collapsed": true
   },
   "outputs": [],
   "source": [
    "window = (int(windowstart), int(windowend))"
   ]
  },
  {
   "cell_type": "code",
   "execution_count": 6,
   "metadata": {
    "collapsed": true
   },
   "outputs": [],
   "source": [
    "#Insert barcode name (to iterate over different barcodes)\n",
    "#Insert modification - 'A' and/or 'C'\n",
    "mod = ['A']\n",
    "Barcode_name = {18:'CA'}"
   ]
  },
  {
   "cell_type": "code",
   "execution_count": 7,
   "metadata": {
    "collapsed": true
   },
   "outputs": [],
   "source": [
    "mod_csv = {i:{} for i in Barcode_name.keys()}\n",
    "read_prob = {i:{} for i in Barcode_name.keys()}\n",
    "read_pos = {i:{} for i in Barcode_name.keys()}\n"
   ]
  },
  {
   "cell_type": "code",
   "execution_count": 8,
   "metadata": {
    "collapsed": true
   },
   "outputs": [],
   "source": [
    "filename_prob = '/home/groups/astraigh/ont_minion/single_molecule_roi/guppy_winnowmap/DiMeLo_cen_enrich_trial1/thresh230/ChrX_CDR_200kb_5745_5775_q10/rawProb_all/' + str(Barcode_name[18]) + '_' + str('A') + '_prob.csv'"
   ]
  },
  {
   "cell_type": "code",
   "execution_count": 9,
   "metadata": {
    "collapsed": true
   },
   "outputs": [],
   "source": [
    "read_prob[18]['A'] = np.genfromtxt(filename_prob, dtype = float, delimiter = ',')[1:,1:]"
   ]
  },
  {
   "cell_type": "code",
   "execution_count": 10,
   "metadata": {},
   "outputs": [
    {
     "name": "stderr",
     "output_type": "stream",
     "text": [
      "/share/software/user/open/py-jupyter/1.0.0_py36/lib/python3.6/site-packages/ipykernel_launcher.py:2: RuntimeWarning: invalid value encountered in greater_equal\n",
      "  \n"
     ]
    }
   ],
   "source": [
    "read_pos[18]['A'] = np.empty(np.shape(read_prob[18]['A']))\n",
    "read_pos[18]['A'][(read_prob[18]['A'])>=0] = 1"
   ]
  },
  {
   "cell_type": "code",
   "execution_count": null,
   "metadata": {
    "collapsed": true
   },
   "outputs": [],
   "source": []
  },
  {
   "cell_type": "code",
   "execution_count": 11,
   "metadata": {
    "collapsed": true
   },
   "outputs": [],
   "source": [
    "read_start = {i:{} for i in Barcode_name.keys()}\n",
    "read_end = {i:{} for i in Barcode_name.keys()}\n",
    "for j in ['A']:\n",
    "    for i in Barcode_name.keys():\n",
    "        read_start[i][j] = [np.nonzero(read)[0][0] for read in np.nan_to_num(read_pos[i][j])]\n",
    "        read_end[i][j] = [np.nonzero(read)[0][-1] for read in np.nan_to_num(read_pos[i][j])]"
   ]
  },
  {
   "cell_type": "code",
   "execution_count": 12,
   "metadata": {
    "collapsed": true
   },
   "outputs": [],
   "source": [
    "read_coverage = {i:{} for i in Barcode_name.keys()}\n",
    "total_coverage = {i:{} for i in Barcode_name.keys()}\n",
    "for j in ['A']:\n",
    "    for i in Barcode_name.keys():\n",
    "        windowlen = np.shape(read_pos[i][j])[1]\n",
    "        read_coverage[i][j] = []\n",
    "        for k in range(0,np.shape(read_pos[i][j])[0]):\n",
    "            read_coverage[i][j].append(np.zeros(windowlen))\n",
    "            read_coverage[i][j][k][read_start[i][j][k]:read_end[i][j][k]+1] = 1\n",
    "        total_coverage[i][j] = np.sum(read_coverage[i][j], axis=0)"
   ]
  },
  {
   "cell_type": "code",
   "execution_count": 16,
   "metadata": {
    "scrolled": true
   },
   "outputs": [
    {
     "name": "stdout",
     "output_type": "stream",
     "text": [
      "CA A\n"
     ]
    },
    {
     "name": "stderr",
     "output_type": "stream",
     "text": [
      "/share/software/user/open/py-jupyter/1.0.0_py36/lib/python3.6/site-packages/ipykernel_launcher.py:8: RuntimeWarning: invalid value encountered in greater\n",
      "  \n",
      "/share/software/user/open/py-jupyter/1.0.0_py36/lib/python3.6/site-packages/ipykernel_launcher.py:9: RuntimeWarning: Mean of empty slice\n",
      "  if __name__ == '__main__':\n"
     ]
    }
   ],
   "source": [
    "read_mod = {i:{} for i in Barcode_name.keys()}\n",
    "binned_average_read_mod_thr_1kb= {i:{} for i in Barcode_name.keys()}\n",
    "for j in mod:\n",
    "    for i in Barcode_name.keys():\n",
    "        print(Barcode_name[i], j)\n",
    "        read_mod[i][j] = np.empty(np.shape(read_prob[i][j]))\n",
    "        read_mod[i][j][:] = np.NaN\n",
    "        read_mod[i][j][read_prob[i][j] > 230] = 1\n",
    "        binned_average_read_mod_thr_1kb[i][j] = pd.DataFrame.to_numpy(pd.DataFrame(np.nan_to_num(np.nanmean(read_mod[i][j], axis = 0))).rolling(window = 1000).mean())"
   ]
  },
  {
   "cell_type": "code",
   "execution_count": 24,
   "metadata": {
    "scrolled": false
   },
   "outputs": [
    {
     "data": {
      "image/png": "[encoded data removed]",
      "text/plain": [
       "<Figure size 1296x108 with 2 Axes>"
      ]
     },
     "metadata": {},
     "output_type": "display_data"
    }
   ],
   "source": [
    "x = np.arange(windowstart,windowend+1)\n",
    "\n",
    "for j in ['A']:\n",
    "    if j == 'A':\n",
    "        colorpal = '#053C5E'\n",
    "    elif j =='C':\n",
    "        colorpal = '#BB4430'\n",
    "    for i in Barcode_name.keys():\n",
    "        a = 0\n",
    "        fig,ax = plt.subplots(2,1, figsize = (18,1.5), gridspec_kw={'height_ratios': [2, 1]})\n",
    "        ax[a].plot(x,binned_average_read_mod_thr_1kb[i][j],colorpal)\n",
    "        #ax[a].set_title(Barcode_name[i] + ' m6A', loc='left', pad=1, fontsize = 12)\n",
    "        if j == 'A': \n",
    "            ax[a].set_ylim(0,0.075)\n",
    "        elif j == 'C':\n",
    "            ax[a].set_ylim(0,0.03)\n",
    "        ax[a].set_xlim(window[0],window[1]-50000)\n",
    "        a += 1\n",
    "        #ax[a].plot(x,total_coverage[i][j], 'grey')\n",
    "        ax[a].fill_between(x,np.nansum(read_pos[i]['A'],axis = 0), color = 'grey')\n",
    "        #ax[a].set_title(Barcode_name[i] + ' coverage', loc='left', pad=1, fontsize = 12)\n",
    "        #ax[a].axhline(5, color = 'r', linestyle = '--', alpha=0.5, linewidth = 1)\n",
    "        ax[a].set_ylim(0,20)\n",
    "        ax[a].set_xlim(window[0],window[1]-50000)\n",
    "        fig.savefig(outfolder + Chromosome_Region + '_250kb_bin1kb_' + Barcode_name[i] + '_' + j + '_' + str(window[0]) + '_' + str(window[1]) + '.png', dpi=300, bbox_inches='tight')\n",
    "        plt.show()"
   ]
  },
  {
   "cell_type": "code",
   "execution_count": 15,
   "metadata": {
    "collapsed": true
   },
   "outputs": [],
   "source": [
    "def find_nuc_dist(mod_array_input):\n",
    "    mod_array = 1-np.pad(mod_array_input, 1)\n",
    "    mod_pos = np.nonzero(mod_array)[0]\n",
    "    #print(mod_pos)\n",
    "    mod_switch = np.diff(mod_pos)-1\n",
    "    mod_switch = mod_switch[np.nonzero(mod_switch)]\n",
    "    num_nuc_sized = np.nansum(mod_switch)/200\n",
    "    #num_nuc_sized = np.nansum(np.maximum(np.floor(mod_switch/150),1))\n",
    "    #all_gaps = [mod_pos[0][i] - mod_pos[0][i-1]-1 for i in range(1,np.shape(mod_pos)[1])]\n",
    "    #print(all_gaps)\n",
    "    #gap_dist = np.asarray([all_gaps[x] for x in np.nonzero(all_gaps)[0]])\n",
    "    return num_nuc_sized"
   ]
  },
  {
   "cell_type": "code",
   "execution_count": 196,
   "metadata": {},
   "outputs": [
    {
     "name": "stderr",
     "output_type": "stream",
     "text": [
      "/share/software/user/open/py-jupyter/1.0.0_py36/lib/python3.6/site-packages/ipykernel_launcher.py:10: RuntimeWarning: invalid value encountered in less\n",
      "  # Remove the CWD from sys.path while we load stuff.\n"
     ]
    }
   ],
   "source": [
    "i = 18\n",
    "j = 'A'\n",
    "prob_bin_size = 230\n",
    "read_logq = np.log(1-read_prob[i][j][:,:250000]/256)\n",
    "read_logq_nancumsum = np.pad(np.nancumsum(read_logq, axis = 1), ((0,0),(int(np.floor(prob_bin_size/2)),int(np.floor(prob_bin_size/2)))), constant_values=np.NaN)\n",
    "read_sumlogq_rolling = read_logq_nancumsum[:,prob_bin_size:250000+prob_bin_size] - read_logq_nancumsum[:,0:250000]\n",
    "thr = 0.9\n",
    "thrq = 1- thr\n",
    "logthrq = np.log(thrq)\n",
    "read_prob_binned_array = read_sumlogq_rolling < logthrq"
   ]
  },
  {
   "cell_type": "code",
   "execution_count": 17,
   "metadata": {
    "collapsed": true
   },
   "outputs": [],
   "source": [
    "x = np.arange(window[0],window[1]-50000)"
   ]
  },
  {
   "cell_type": "code",
   "execution_count": 206,
   "metadata": {
    "scrolled": true
   },
   "outputs": [
    {
     "name": "stdout",
     "output_type": "stream",
     "text": [
      "2500\n",
      "5000\n",
      "7500\n",
      "10000\n",
      "12500\n",
      "15000\n",
      "17500\n",
      "20000\n",
      "22500\n",
      "25000\n",
      "27500\n",
      "30000\n",
      "32500\n",
      "35000\n",
      "37500\n",
      "40000\n",
      "42500\n",
      "45000\n",
      "47500\n",
      "50000\n",
      "52500\n",
      "55000\n",
      "57500\n",
      "60000\n",
      "62500\n",
      "65000\n",
      "67500\n",
      "70000\n",
      "72500\n",
      "75000\n",
      "77500\n",
      "80000\n",
      "82500\n",
      "85000\n",
      "87500\n",
      "90000\n",
      "92500\n",
      "95000\n",
      "97500\n",
      "100000\n",
      "102500\n",
      "105000\n",
      "107500\n",
      "110000\n",
      "112500\n",
      "115000\n",
      "117500\n",
      "120000\n",
      "122500\n",
      "125000\n",
      "127500\n",
      "130000\n",
      "132500\n",
      "135000\n",
      "137500\n",
      "140000\n",
      "142500\n",
      "145000\n",
      "147500\n",
      "150000\n",
      "152500\n",
      "155000\n",
      "157500\n",
      "160000\n",
      "162500\n",
      "165000\n",
      "167500\n",
      "170000\n",
      "172500\n",
      "175000\n",
      "177500\n",
      "180000\n",
      "182500\n",
      "185000\n",
      "187500\n",
      "190000\n",
      "192500\n",
      "195000\n",
      "197500\n",
      "200000\n",
      "202500\n",
      "205000\n",
      "207500\n",
      "210000\n",
      "212500\n",
      "215000\n",
      "217500\n",
      "220000\n",
      "222500\n",
      "225000\n",
      "227500\n",
      "230000\n",
      "232500\n",
      "235000\n",
      "237500\n",
      "240000\n",
      "242500\n",
      "245000\n",
      "247500\n",
      "250000\n"
     ]
    }
   ],
   "source": [
    "##Use this part to check how the bin size affects the nucleosome density and distances between nucleosomes, for specific regions of interest, by varying bin size, window size, step size, minimum coverage per read within window etc.\n",
    "\n",
    "roi_start = 0 \n",
    "roi_end = 250000\n",
    "\n",
    "rolling_window_size = 5000 \n",
    "step_size = 2500 #Make sure this is smaller than window size\n",
    "minimum_coverage = 1000 #Make sure this is smaller than window size\n",
    "\n",
    "\n",
    "read_count = []\n",
    "nuc_count_perread = []\n",
    "window_mid = []\n",
    "nuc_list_mean = []\n",
    "nuc_list_median = []\n",
    "nuc_list_std = []\n",
    "num_reads = np.shape(read_coverage[i][j])[0]\n",
    "sized_nuc_count_perread = []\n",
    "for roll_start in range(roi_start, roi_end, step_size):\n",
    "    rolling_window_start = int(roll_start + 0)\n",
    "    rolling_window_end = int(roll_start + rolling_window_size)\n",
    "    rolling_window_mid = int(rolling_window_start + math.floor(rolling_window_size/2))\n",
    "    covered = np.array(read_coverage[i][j])[:,rolling_window_start:rolling_window_end].sum(axis = 1)>minimum_coverage\n",
    "    readlength = []\n",
    "    gap_list = []\n",
    "    per_read_total_meth = []\n",
    "    nuc_list = []\n",
    "    for row in range(0,num_reads):\n",
    "        if covered[row] == True:\n",
    "            readlength.append(np.array(read_coverage[i][j])[row,rolling_window_start:rolling_window_end].sum())\n",
    "            per_read_total_meth.append(np.nansum(read_prob_binned_array[row, rolling_window_start:rolling_window_end]))\n",
    "            nuc_list.append(find_nuc_dist(read_prob_binned_array[row, rolling_window_start:rolling_window_end]))\n",
    "             \n",
    "    sized_nuc_count_perread.append(np.nanmean(per_read_total_meth)/200)\n",
    "    window_mid.append(rolling_window_mid)\n",
    "    nuc_list_mean.append(np.nanmean(nuc_list))    "
   ]
  },
  {
   "cell_type": "code",
   "execution_count": 42,
   "metadata": {
    "scrolled": true
   },
   "outputs": [
    {
     "data": {
      "image/png": "[encoded data removed]",
      "text/plain": [
       "<Figure size 1296x108 with 1 Axes>"
      ]
     },
     "metadata": {},
     "output_type": "display_data"
    }
   ],
   "source": [
    "#Plotting nucleosomes counted as (total methyl bin size / 200) for each read\n",
    "#5kb window, 1kb step size, read cov > 1000, all gaps[1:-1] then len(sublist)-1; Binning threshold 0.9, binsize = 130\n",
    "fig = plt.figure(figsize = (18,1.5))\n",
    "plt.fill_between(np.asarray(window_mid)-2500+windowstart,nuc_list_mean, color = '#053C5E')\n",
    "plt.axhline(2,0,color = 'grey', linewidth = 0.5)\n",
    "plt.axhline(4,0,color = 'grey', linewidth = 0.5)\n",
    "plt.axhline(6,0,color = 'grey', linewidth = 0.5)\n",
    "plt.xlim(0+windowstart,250000+windowstart)\n",
    "plt.ylim(0,8)\n",
    "\n",
    "fig.savefig(outfolder + Chromosome_Region + 'nucdensity' + Barcode_name[i] + '.png', dpi=300, bbox_inches='tight')\n",
    "\n",
    "plt.show()"
   ]
  }
 ],
 "metadata": {
  "kernelspec": {
   "display_name": "Python (charseq)",
   "language": "python",
   "name": "charseq"
  },
  "language_info": {
   "codemirror_mode": {
    "name": "ipython",
    "version": 3
   },
   "file_extension": ".py",
   "mimetype": "text/x-python",
   "name": "python",
   "nbconvert_exporter": "python",
   "pygments_lexer": "ipython3",
   "version": "3.6.10"
  }
 },
 "nbformat": 4,
 "nbformat_minor": 2
}
